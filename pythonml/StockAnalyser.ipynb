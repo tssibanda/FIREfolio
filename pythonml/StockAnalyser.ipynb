{
 "cells": [
  {
   "cell_type": "markdown",
   "id": "d1ecfde9",
   "metadata": {},
   "source": [
    "#  Machine Learning Script to predict stocks\n",
    "## By Thamsanqa Sibanda C18727971"
   ]
  },
  {
   "cell_type": "markdown",
   "id": "1bfb8e92",
   "metadata": {},
   "source": [
    "### 1. Import Libraries"
   ]
  },
  {
   "cell_type": "code",
   "execution_count": 1,
   "id": "474a6ba6",
   "metadata": {},
   "outputs": [],
   "source": [
    "# Import libraries\n",
    "import yfinance as yf\n",
    "import pandas as pd\n",
    "import numpy as np\n",
    "\n",
    "from matplotlib import pyplot as plt\n",
    "import seaborn as sns\n",
    "\n",
    "from sklearn.linear_model import LinearRegression\n",
    "from sklearn.model_selection import train_test_split\n",
    "\n",
    "\n"
   ]
  },
  {
   "cell_type": "markdown",
   "id": "37a5d1c4",
   "metadata": {},
   "source": [
    "### 2. get dataset"
   ]
  },
  {
   "cell_type": "code",
   "execution_count": 2,
   "id": "b656f026",
   "metadata": {},
   "outputs": [],
   "source": [
    "stock = yf.Ticker('MSFT')\n",
    "df = pd.DataFrame(stock.history(period='2y'))\n"
   ]
  },
  {
   "cell_type": "code",
   "execution_count": 3,
   "id": "835c915f",
   "metadata": {},
   "outputs": [
    {
     "data": {
      "text/html": [
       "<div>\n",
       "<style scoped>\n",
       "    .dataframe tbody tr th:only-of-type {\n",
       "        vertical-align: middle;\n",
       "    }\n",
       "\n",
       "    .dataframe tbody tr th {\n",
       "        vertical-align: top;\n",
       "    }\n",
       "\n",
       "    .dataframe thead th {\n",
       "        text-align: right;\n",
       "    }\n",
       "</style>\n",
       "<table border=\"1\" class=\"dataframe\">\n",
       "  <thead>\n",
       "    <tr style=\"text-align: right;\">\n",
       "      <th></th>\n",
       "      <th>Open</th>\n",
       "      <th>High</th>\n",
       "      <th>Low</th>\n",
       "      <th>Close</th>\n",
       "      <th>Volume</th>\n",
       "      <th>Dividends</th>\n",
       "      <th>Stock Splits</th>\n",
       "    </tr>\n",
       "    <tr>\n",
       "      <th>Date</th>\n",
       "      <th></th>\n",
       "      <th></th>\n",
       "      <th></th>\n",
       "      <th></th>\n",
       "      <th></th>\n",
       "      <th></th>\n",
       "      <th></th>\n",
       "    </tr>\n",
       "  </thead>\n",
       "  <tbody>\n",
       "    <tr>\n",
       "      <th>2020-05-04</th>\n",
       "      <td>171.339036</td>\n",
       "      <td>175.767588</td>\n",
       "      <td>170.661493</td>\n",
       "      <td>175.610474</td>\n",
       "      <td>30372900</td>\n",
       "      <td>0.0</td>\n",
       "      <td>0</td>\n",
       "    </tr>\n",
       "    <tr>\n",
       "      <th>2020-05-05</th>\n",
       "      <td>177.358333</td>\n",
       "      <td>180.333615</td>\n",
       "      <td>176.651333</td>\n",
       "      <td>177.495804</td>\n",
       "      <td>36839200</td>\n",
       "      <td>0.0</td>\n",
       "      <td>0</td>\n",
       "    </tr>\n",
       "    <tr>\n",
       "      <th>2020-05-06</th>\n",
       "      <td>178.791952</td>\n",
       "      <td>180.873664</td>\n",
       "      <td>178.350081</td>\n",
       "      <td>179.243637</td>\n",
       "      <td>32139300</td>\n",
       "      <td>0.0</td>\n",
       "      <td>0</td>\n",
       "    </tr>\n",
       "    <tr>\n",
       "      <th>2020-05-07</th>\n",
       "      <td>180.844245</td>\n",
       "      <td>181.217388</td>\n",
       "      <td>179.282961</td>\n",
       "      <td>180.284546</td>\n",
       "      <td>28316000</td>\n",
       "      <td>0.0</td>\n",
       "      <td>0</td>\n",
       "    </tr>\n",
       "    <tr>\n",
       "      <th>2020-05-08</th>\n",
       "      <td>181.639602</td>\n",
       "      <td>181.659245</td>\n",
       "      <td>180.048861</td>\n",
       "      <td>181.345016</td>\n",
       "      <td>30877800</td>\n",
       "      <td>0.0</td>\n",
       "      <td>0</td>\n",
       "    </tr>\n",
       "  </tbody>\n",
       "</table>\n",
       "</div>"
      ],
      "text/plain": [
       "                  Open        High         Low       Close    Volume  \\\n",
       "Date                                                                   \n",
       "2020-05-04  171.339036  175.767588  170.661493  175.610474  30372900   \n",
       "2020-05-05  177.358333  180.333615  176.651333  177.495804  36839200   \n",
       "2020-05-06  178.791952  180.873664  178.350081  179.243637  32139300   \n",
       "2020-05-07  180.844245  181.217388  179.282961  180.284546  28316000   \n",
       "2020-05-08  181.639602  181.659245  180.048861  181.345016  30877800   \n",
       "\n",
       "            Dividends  Stock Splits  \n",
       "Date                                 \n",
       "2020-05-04        0.0             0  \n",
       "2020-05-05        0.0             0  \n",
       "2020-05-06        0.0             0  \n",
       "2020-05-07        0.0             0  \n",
       "2020-05-08        0.0             0  "
      ]
     },
     "execution_count": 3,
     "metadata": {},
     "output_type": "execute_result"
    }
   ],
   "source": [
    "df.head(5)"
   ]
  },
  {
   "cell_type": "code",
   "execution_count": 4,
   "id": "6b44c69e",
   "metadata": {},
   "outputs": [
    {
     "data": {
      "text/html": [
       "<div>\n",
       "<style scoped>\n",
       "    .dataframe tbody tr th:only-of-type {\n",
       "        vertical-align: middle;\n",
       "    }\n",
       "\n",
       "    .dataframe tbody tr th {\n",
       "        vertical-align: top;\n",
       "    }\n",
       "\n",
       "    .dataframe thead th {\n",
       "        text-align: right;\n",
       "    }\n",
       "</style>\n",
       "<table border=\"1\" class=\"dataframe\">\n",
       "  <thead>\n",
       "    <tr style=\"text-align: right;\">\n",
       "      <th></th>\n",
       "      <th>Open</th>\n",
       "      <th>High</th>\n",
       "      <th>Low</th>\n",
       "      <th>Close</th>\n",
       "      <th>Volume</th>\n",
       "      <th>Dividends</th>\n",
       "      <th>Stock Splits</th>\n",
       "    </tr>\n",
       "  </thead>\n",
       "  <tbody>\n",
       "    <tr>\n",
       "      <th>Open</th>\n",
       "      <td>1.000000</td>\n",
       "      <td>0.998886</td>\n",
       "      <td>0.998516</td>\n",
       "      <td>0.996965</td>\n",
       "      <td>-0.141016</td>\n",
       "      <td>-0.001702</td>\n",
       "      <td>NaN</td>\n",
       "    </tr>\n",
       "    <tr>\n",
       "      <th>High</th>\n",
       "      <td>0.998886</td>\n",
       "      <td>1.000000</td>\n",
       "      <td>0.998301</td>\n",
       "      <td>0.998479</td>\n",
       "      <td>-0.125906</td>\n",
       "      <td>-0.002221</td>\n",
       "      <td>NaN</td>\n",
       "    </tr>\n",
       "    <tr>\n",
       "      <th>Low</th>\n",
       "      <td>0.998516</td>\n",
       "      <td>0.998301</td>\n",
       "      <td>1.000000</td>\n",
       "      <td>0.998642</td>\n",
       "      <td>-0.167931</td>\n",
       "      <td>0.000743</td>\n",
       "      <td>NaN</td>\n",
       "    </tr>\n",
       "    <tr>\n",
       "      <th>Close</th>\n",
       "      <td>0.996965</td>\n",
       "      <td>0.998479</td>\n",
       "      <td>0.998642</td>\n",
       "      <td>1.000000</td>\n",
       "      <td>-0.149701</td>\n",
       "      <td>-0.000666</td>\n",
       "      <td>NaN</td>\n",
       "    </tr>\n",
       "    <tr>\n",
       "      <th>Volume</th>\n",
       "      <td>-0.141016</td>\n",
       "      <td>-0.125906</td>\n",
       "      <td>-0.167931</td>\n",
       "      <td>-0.149701</td>\n",
       "      <td>1.000000</td>\n",
       "      <td>-0.050827</td>\n",
       "      <td>NaN</td>\n",
       "    </tr>\n",
       "    <tr>\n",
       "      <th>Dividends</th>\n",
       "      <td>-0.001702</td>\n",
       "      <td>-0.002221</td>\n",
       "      <td>0.000743</td>\n",
       "      <td>-0.000666</td>\n",
       "      <td>-0.050827</td>\n",
       "      <td>1.000000</td>\n",
       "      <td>NaN</td>\n",
       "    </tr>\n",
       "    <tr>\n",
       "      <th>Stock Splits</th>\n",
       "      <td>NaN</td>\n",
       "      <td>NaN</td>\n",
       "      <td>NaN</td>\n",
       "      <td>NaN</td>\n",
       "      <td>NaN</td>\n",
       "      <td>NaN</td>\n",
       "      <td>NaN</td>\n",
       "    </tr>\n",
       "  </tbody>\n",
       "</table>\n",
       "</div>"
      ],
      "text/plain": [
       "                  Open      High       Low     Close    Volume  Dividends  \\\n",
       "Open          1.000000  0.998886  0.998516  0.996965 -0.141016  -0.001702   \n",
       "High          0.998886  1.000000  0.998301  0.998479 -0.125906  -0.002221   \n",
       "Low           0.998516  0.998301  1.000000  0.998642 -0.167931   0.000743   \n",
       "Close         0.996965  0.998479  0.998642  1.000000 -0.149701  -0.000666   \n",
       "Volume       -0.141016 -0.125906 -0.167931 -0.149701  1.000000  -0.050827   \n",
       "Dividends    -0.001702 -0.002221  0.000743 -0.000666 -0.050827   1.000000   \n",
       "Stock Splits       NaN       NaN       NaN       NaN       NaN        NaN   \n",
       "\n",
       "              Stock Splits  \n",
       "Open                   NaN  \n",
       "High                   NaN  \n",
       "Low                    NaN  \n",
       "Close                  NaN  \n",
       "Volume                 NaN  \n",
       "Dividends              NaN  \n",
       "Stock Splits           NaN  "
      ]
     },
     "execution_count": 4,
     "metadata": {},
     "output_type": "execute_result"
    }
   ],
   "source": [
    "df.corr()"
   ]
  },
  {
   "cell_type": "code",
   "execution_count": 5,
   "id": "d3b6990b",
   "metadata": {},
   "outputs": [
    {
     "data": {
      "image/png": "[encoded data removed]",
      "text/plain": [
       "<Figure size 432x288 with 2 Axes>"
      ]
     },
     "metadata": {
      "needs_background": "light"
     },
     "output_type": "display_data"
    }
   ],
   "source": [
    "sns.heatmap(df.corr(), cmap='Reds', annot=True)\n",
    "plt.title('Correlation Matrix');"
   ]
  },
  {
   "cell_type": "markdown",
   "id": "0a4fc60f",
   "metadata": {},
   "source": [
    "### 3. Preparing the dataset for the model"
   ]
  },
  {
   "cell_type": "code",
   "execution_count": 6,
   "id": "65e9442f",
   "metadata": {},
   "outputs": [
    {
     "name": "stdout",
     "output_type": "stream",
     "text": [
      "<class 'pandas.core.frame.DataFrame'>\n",
      "DatetimeIndex: 505 entries, 2020-05-04 to 2022-05-03\n",
      "Data columns (total 7 columns):\n",
      " #   Column        Non-Null Count  Dtype  \n",
      "---  ------        --------------  -----  \n",
      " 0   Open          505 non-null    float64\n",
      " 1   High          505 non-null    float64\n",
      " 2   Low           505 non-null    float64\n",
      " 3   Close         505 non-null    float64\n",
      " 4   Volume        505 non-null    int64  \n",
      " 5   Dividends     505 non-null    float64\n",
      " 6   Stock Splits  505 non-null    int64  \n",
      "dtypes: float64(5), int64(2)\n",
      "memory usage: 31.6 KB\n"
     ]
    }
   ],
   "source": [
    "# check if there are any missing values in the dataset\n",
    "df.info()"
   ]
  },
  {
   "cell_type": "code",
   "execution_count": 7,
   "id": "274b3be8",
   "metadata": {},
   "outputs": [
    {
     "data": {
      "image/png": "[encoded data removed]",
      "text/plain": [
       "<Figure size 1080x432 with 1 Axes>"
      ]
     },
     "metadata": {
      "needs_background": "light"
     },
     "output_type": "display_data"
    }
   ],
   "source": [
    "plt.figure(figsize=(15,6))\n",
    "sns.lineplot(data=df, x=\"Date\", y=\"Close\", ).set_title('Microsoft Stock Chart')\n",
    "plt.show()"
   ]
  },
  {
   "cell_type": "code",
   "execution_count": 8,
   "id": "27c93ee6",
   "metadata": {},
   "outputs": [
    {
     "data": {
      "text/html": [
       "<div>\n",
       "<style scoped>\n",
       "    .dataframe tbody tr th:only-of-type {\n",
       "        vertical-align: middle;\n",
       "    }\n",
       "\n",
       "    .dataframe tbody tr th {\n",
       "        vertical-align: top;\n",
       "    }\n",
       "\n",
       "    .dataframe thead th {\n",
       "        text-align: right;\n",
       "    }\n",
       "</style>\n",
       "<table border=\"1\" class=\"dataframe\">\n",
       "  <thead>\n",
       "    <tr style=\"text-align: right;\">\n",
       "      <th></th>\n",
       "      <th>Open</th>\n",
       "      <th>High</th>\n",
       "      <th>Low</th>\n",
       "      <th>Close</th>\n",
       "      <th>Volume</th>\n",
       "      <th>Prev_Close</th>\n",
       "      <th>Target</th>\n",
       "    </tr>\n",
       "    <tr>\n",
       "      <th>Date</th>\n",
       "      <th></th>\n",
       "      <th></th>\n",
       "      <th></th>\n",
       "      <th></th>\n",
       "      <th></th>\n",
       "      <th></th>\n",
       "      <th></th>\n",
       "    </tr>\n",
       "  </thead>\n",
       "  <tbody>\n",
       "    <tr>\n",
       "      <th>2020-05-05</th>\n",
       "      <td>177.358333</td>\n",
       "      <td>180.333615</td>\n",
       "      <td>176.651333</td>\n",
       "      <td>177.495804</td>\n",
       "      <td>36839200</td>\n",
       "      <td>175.610474</td>\n",
       "      <td>1</td>\n",
       "    </tr>\n",
       "    <tr>\n",
       "      <th>2020-05-06</th>\n",
       "      <td>178.791952</td>\n",
       "      <td>180.873664</td>\n",
       "      <td>178.350081</td>\n",
       "      <td>179.243637</td>\n",
       "      <td>32139300</td>\n",
       "      <td>177.495804</td>\n",
       "      <td>1</td>\n",
       "    </tr>\n",
       "    <tr>\n",
       "      <th>2020-05-07</th>\n",
       "      <td>180.844245</td>\n",
       "      <td>181.217388</td>\n",
       "      <td>179.282961</td>\n",
       "      <td>180.284546</td>\n",
       "      <td>28316000</td>\n",
       "      <td>179.243637</td>\n",
       "      <td>1</td>\n",
       "    </tr>\n",
       "    <tr>\n",
       "      <th>2020-05-08</th>\n",
       "      <td>181.639602</td>\n",
       "      <td>181.659245</td>\n",
       "      <td>180.048861</td>\n",
       "      <td>181.345016</td>\n",
       "      <td>30877800</td>\n",
       "      <td>180.284546</td>\n",
       "      <td>1</td>\n",
       "    </tr>\n",
       "    <tr>\n",
       "      <th>2020-05-11</th>\n",
       "      <td>179.842631</td>\n",
       "      <td>184.123897</td>\n",
       "      <td>179.548060</td>\n",
       "      <td>183.367813</td>\n",
       "      <td>30892700</td>\n",
       "      <td>181.345016</td>\n",
       "      <td>1</td>\n",
       "    </tr>\n",
       "  </tbody>\n",
       "</table>\n",
       "</div>"
      ],
      "text/plain": [
       "                  Open        High         Low       Close    Volume  \\\n",
       "Date                                                                   \n",
       "2020-05-05  177.358333  180.333615  176.651333  177.495804  36839200   \n",
       "2020-05-06  178.791952  180.873664  178.350081  179.243637  32139300   \n",
       "2020-05-07  180.844245  181.217388  179.282961  180.284546  28316000   \n",
       "2020-05-08  181.639602  181.659245  180.048861  181.345016  30877800   \n",
       "2020-05-11  179.842631  184.123897  179.548060  183.367813  30892700   \n",
       "\n",
       "            Prev_Close  Target  \n",
       "Date                            \n",
       "2020-05-05  175.610474       1  \n",
       "2020-05-06  177.495804       1  \n",
       "2020-05-07  179.243637       1  \n",
       "2020-05-08  180.284546       1  \n",
       "2020-05-11  181.345016       1  "
      ]
     },
     "execution_count": 8,
     "metadata": {},
     "output_type": "execute_result"
    }
   ],
   "source": [
    "# creating the up = 1 and down = 0 target feature for the dataset\n",
    "\n",
    "# create a previous close column\n",
    "prev_close = pd.DataFrame(df['Close'].shift(1))\n",
    "prev_close.rename(columns = {'Close':'Prev_Close'}, inplace = True)\n",
    "\n",
    "# \n",
    "df = df.drop(['Dividends', 'Stock Splits'], axis=1)\n",
    "df = pd.concat([df,prev_close], axis=1)\n",
    "df['Target'] = np.where(df['Close'] > df['Prev_Close'], 1, 0)\n",
    "df = df.iloc[1: , :]\n",
    "df.head(5)"
   ]
  },
  {
   "cell_type": "code",
   "execution_count": 9,
   "id": "c7eda15e",
   "metadata": {},
   "outputs": [
    {
     "data": {
      "text/plain": [
       "1    271\n",
       "0    233\n",
       "Name: Target, dtype: int64"
      ]
     },
     "execution_count": 9,
     "metadata": {},
     "output_type": "execute_result"
    }
   ],
   "source": [
    "df['Target'].value_counts()"
   ]
  },
  {
   "cell_type": "markdown",
   "id": "4a29dd21",
   "metadata": {},
   "source": [
    "### 4. Creating the Model"
   ]
  },
  {
   "cell_type": "code",
   "execution_count": 10,
   "id": "534ac784",
   "metadata": {},
   "outputs": [],
   "source": [
    "x = df.drop(['Target','Prev_Close','Volume', 'Close'], axis=1)\n",
    "y = df['Close']"
   ]
  },
  {
   "cell_type": "code",
   "execution_count": 11,
   "id": "273a5aa1",
   "metadata": {},
   "outputs": [],
   "source": [
    "x_train, x_test, y_train, y_test = train_test_split(x,y, test_size=0.3, random_state=0)"
   ]
  },
  {
   "cell_type": "code",
   "execution_count": 12,
   "id": "7810873c",
   "metadata": {},
   "outputs": [
    {
     "name": "stdout",
     "output_type": "stream",
     "text": [
      "(352, 3) (152, 3) (352,) (152,)\n"
     ]
    }
   ],
   "source": [
    "print(x_train.shape, x_test.shape, y_train.shape, y_test.shape)"
   ]
  },
  {
   "cell_type": "code",
   "execution_count": 13,
   "id": "b2950598",
   "metadata": {},
   "outputs": [],
   "source": [
    "from sklearn.pipeline import make_pipeline\n",
    "from sklearn.linear_model import Ridge, Lasso\n",
    "from sklearn.ensemble import RandomForestRegressor, GradientBoostingRegressor\n",
    "\n",
    "\n",
    "\n"
   ]
  },
  {
   "cell_type": "code",
   "execution_count": 14,
   "id": "5cbfe1a6",
   "metadata": {},
   "outputs": [],
   "source": [
    "pipelines = {\n",
    "    'lr':make_pipeline(LinearRegression()),\n",
    "    'rf':make_pipeline(RandomForestRegressor(random_state=0)),\n",
    "    'gb':make_pipeline(GradientBoostingRegressor(random_state=0)),\n",
    "    'ridge':make_pipeline(Ridge(random_state=0)),\n",
    "    'lasso':make_pipeline(Lasso(random_state=0))\n",
    "}"
   ]
  },
  {
   "cell_type": "code",
   "execution_count": 15,
   "id": "eaa98e35",
   "metadata": {},
   "outputs": [
    {
     "data": {
      "text/plain": [
       "{'copy_X': True,\n",
       " 'fit_intercept': True,\n",
       " 'n_jobs': None,\n",
       " 'normalize': 'deprecated',\n",
       " 'positive': False}"
      ]
     },
     "execution_count": 15,
     "metadata": {},
     "output_type": "execute_result"
    }
   ],
   "source": [
    "LinearRegression().get_params() "
   ]
  },
  {
   "cell_type": "code",
   "execution_count": 16,
   "id": "4af15b87",
   "metadata": {},
   "outputs": [
    {
     "data": {
      "text/plain": [
       "{'alpha': 0.9,\n",
       " 'ccp_alpha': 0.0,\n",
       " 'criterion': 'friedman_mse',\n",
       " 'init': None,\n",
       " 'learning_rate': 0.1,\n",
       " 'loss': 'squared_error',\n",
       " 'max_depth': 3,\n",
       " 'max_features': None,\n",
       " 'max_leaf_nodes': None,\n",
       " 'min_impurity_decrease': 0.0,\n",
       " 'min_samples_leaf': 1,\n",
       " 'min_samples_split': 2,\n",
       " 'min_weight_fraction_leaf': 0.0,\n",
       " 'n_estimators': 100,\n",
       " 'n_iter_no_change': None,\n",
       " 'random_state': None,\n",
       " 'subsample': 1.0,\n",
       " 'tol': 0.0001,\n",
       " 'validation_fraction': 0.1,\n",
       " 'verbose': 0,\n",
       " 'warm_start': False}"
      ]
     },
     "execution_count": 16,
     "metadata": {},
     "output_type": "execute_result"
    }
   ],
   "source": [
    "GradientBoostingRegressor().get_params()"
   ]
  },
  {
   "cell_type": "code",
   "execution_count": 17,
   "id": "b6e564be",
   "metadata": {},
   "outputs": [],
   "source": [
    "hypergrid = {\n",
    "    'lr': {\n",
    "        \n",
    "    },\n",
    "    'rf':{\n",
    "        'randomforestregressor__min_samples_split':[2,4,6],\n",
    "        'randomforestregressor__min_samples_leaf':[1,2,3]\n",
    "    },\n",
    "    'gb':{\n",
    "        'gradientboostingregressor__alpha':[0.001, 0.005, 0.01, 0.05, 0.1, 0.5, 0.99]\n",
    "    },\n",
    "    'ridge':{\n",
    "        'ridge__alpha':[0.001, 0.005, 0.01, 0.05, 0.1, 0.5, 0.99]\n",
    "    },\n",
    "    'lasso':{\n",
    "        'lasso__alpha':[0.001, 0.005, 0.01, 0.05, 0.1, 0.5, 0.99]\n",
    "    }\n",
    "}"
   ]
  },
  {
   "cell_type": "code",
   "execution_count": 18,
   "id": "da1ffc83",
   "metadata": {},
   "outputs": [],
   "source": [
    "from sklearn.model_selection import GridSearchCV\n",
    "from sklearn.exceptions import NotFittedError"
   ]
  },
  {
   "cell_type": "code",
   "execution_count": 19,
   "id": "63024b56",
   "metadata": {},
   "outputs": [
    {
     "name": "stdout",
     "output_type": "stream",
     "text": [
      "Starting training for lr.\n",
      "lr has successfully fit.\n",
      "Starting training for rf.\n",
      "rf has successfully fit.\n",
      "Starting training for gb.\n",
      "gb has successfully fit.\n",
      "Starting training for ridge.\n",
      "ridge has successfully fit.\n",
      "Starting training for lasso.\n",
      "lasso has successfully fit.\n"
     ]
    },
    {
     "name": "stderr",
     "output_type": "stream",
     "text": [
      "C:\\Users\\Steven\\AppData\\Roaming\\Python\\Python39\\site-packages\\sklearn\\linear_model\\_coordinate_descent.py:647: ConvergenceWarning: Objective did not converge. You might want to increase the number of iterations, check the scale of the features or consider increasing regularisation. Duality gap: 4.719e+02, tolerance: 7.159e+01\n",
      "  model = cd_fast.enet_coordinate_descent(\n"
     ]
    }
   ],
   "source": [
    "fit_models = {}\n",
    "for algo, pipeline in pipelines.items():\n",
    "    model = GridSearchCV( pipeline, hypergrid[algo], cv=10, n_jobs=-1)\n",
    "    try:\n",
    "        print('Starting training for {}.'.format(algo))\n",
    "        model.fit(x_train, y_train)\n",
    "        fit_models[algo] = model\n",
    "        print('{} has successfully fit.'.format(algo))\n",
    "    except NotFittedError:\n",
    "        print(repr(NotFittedError))"
   ]
  },
  {
   "cell_type": "code",
   "execution_count": 20,
   "id": "00e6a9f9",
   "metadata": {},
   "outputs": [],
   "source": [
    "from sklearn.metrics import r2_score, mean_absolute_error"
   ]
  },
  {
   "cell_type": "code",
   "execution_count": 21,
   "id": "faff63b8",
   "metadata": {},
   "outputs": [
    {
     "name": "stdout",
     "output_type": "stream",
     "text": [
      "lr scores - R2:0.9986244880837596 MAE:1.1754391691096568\n",
      "rf scores - R2:0.9976223309412285 MAE:1.8300183542772708\n",
      "gb scores - R2:0.997621792770346 MAE:1.774974069024643\n",
      "ridge scores - R2:0.9986244882957926 MAE:1.1754395285704353\n",
      "lasso scores - R2:0.9987235445227125 MAE:1.191357637084435\n"
     ]
    }
   ],
   "source": [
    "for algo, model in fit_models.items():\n",
    "    yhat = model.predict(x_test)\n",
    "    print('{} scores - R2:{} MAE:{}'. format(algo, r2_score(y_test, yhat), mean_absolute_error(y_test, yhat)) )"
   ]
  },
  {
   "cell_type": "code",
   "execution_count": 22,
   "id": "9cd9b792",
   "metadata": {},
   "outputs": [
    {
     "data": {
      "text/plain": [
       "GridSearchCV(cv=10,\n",
       "             estimator=Pipeline(steps=[('linearregression',\n",
       "                                        LinearRegression())]),\n",
       "             n_jobs=-1, param_grid={})"
      ]
     },
     "execution_count": 22,
     "metadata": {},
     "output_type": "execute_result"
    }
   ],
   "source": [
    " fit_models['lr']"
   ]
  },
  {
   "cell_type": "code",
   "execution_count": 23,
   "id": "64d21b66",
   "metadata": {},
   "outputs": [
    {
     "data": {
      "text/plain": [
       "GridSearchCV(cv=10,\n",
       "             estimator=Pipeline(steps=[('linearregression',\n",
       "                                        LinearRegression())]),\n",
       "             n_jobs=-1, param_grid={})"
      ]
     },
     "execution_count": 23,
     "metadata": {},
     "output_type": "execute_result"
    }
   ],
   "source": [
    "fit_models['lr']"
   ]
  },
  {
   "cell_type": "markdown",
   "id": "71f7dfb5",
   "metadata": {},
   "source": [
    "### 5. Deploying model online"
   ]
  },
  {
   "cell_type": "code",
   "execution_count": 24,
   "id": "066f772e",
   "metadata": {},
   "outputs": [],
   "source": [
    "from ibm_watson_machine_learning import APIClient\n",
    "import json"
   ]
  },
  {
   "cell_type": "code",
   "execution_count": 25,
   "id": "9fe4ad65",
   "metadata": {},
   "outputs": [],
   "source": [
    "# Authentication\n",
    "wml_credentials = {\n",
    "    'apikey': 'Ra2RINZpGRqTMdefsDjMNz55EVLDWKFbbH2Bcke6jFns',\n",
    "    'url': 'https://eu-gb.ml.cloud.ibm.com'\n",
    "}"
   ]
  },
  {
   "cell_type": "code",
   "execution_count": 26,
   "id": "6560e93d",
   "metadata": {},
   "outputs": [
    {
     "name": "stdout",
     "output_type": "stream",
     "text": [
      "Note: 'limit' is not provided. Only first 50 records will be displayed if the number of records exceed 50\n",
      "------------------------------------  ----  ------------------------\n",
      "ID                                    NAME  CREATED\n",
      "5a3ffc60-22f0-423a-a620-45b4071d080d  PROD  2022-05-03T11:06:56.127Z\n",
      "------------------------------------  ----  ------------------------\n"
     ]
    }
   ],
   "source": [
    "wml_client = APIClient(wml_credentials)\n",
    "wml_client.spaces.list()"
   ]
  },
  {
   "cell_type": "code",
   "execution_count": 27,
   "id": "64eb2916",
   "metadata": {},
   "outputs": [],
   "source": [
    "SPACE_ID='5a3ffc60-22f0-423a-a620-45b4071d080d'"
   ]
  },
  {
   "cell_type": "code",
   "execution_count": 28,
   "id": "e22ec613",
   "metadata": {},
   "outputs": [
    {
     "data": {
      "text/plain": [
       "'SUCCESS'"
      ]
     },
     "execution_count": 28,
     "metadata": {},
     "output_type": "execute_result"
    }
   ],
   "source": [
    "wml_client.set.default_space(SPACE_ID)"
   ]
  },
  {
   "cell_type": "code",
   "execution_count": 29,
   "id": "9efbfdff",
   "metadata": {},
   "outputs": [],
   "source": [
    "MODEL_NAME = 'Sklearn Stock Predictor'\n",
    "DEPLOYMENT_NAME = 'Sklearn Deployment'\n",
    "CHOSEN_MODEL = fit_models['lr']"
   ]
  },
  {
   "cell_type": "code",
   "execution_count": 31,
   "id": "d9a151ec",
   "metadata": {},
   "outputs": [],
   "source": [
    "# Set Python Version\n",
    "software_spec_uid = wml_client.software_specifications.get_id_by_name('runtime-22.1-py3.9')\n",
    "\n",
    "# Setup model meta\n",
    "model_props = {\n",
    "    wml_client.repository.ModelMetaNames.NAME: MODEL_NAME, \n",
    "    wml_client.repository.ModelMetaNames.TYPE: 'scikit-learn_1.0', \n",
    "    wml_client.repository.ModelMetaNames.SOFTWARE_SPEC_UID: software_spec_uid \n",
    "}\n",
    "\n",
    "#Save model\n",
    "model_details = wml_client.repository.store_model(\n",
    "    model=CHOSEN_MODEL, \n",
    "    meta_props=model_props, \n",
    "    training_data=x_train, \n",
    "    training_target=y_train,\n",
    "    pipeline=pipelines['lr']\n",
    ")"
   ]
  },
  {
   "cell_type": "code",
   "execution_count": 32,
   "id": "533d932f",
   "metadata": {},
   "outputs": [
    {
     "data": {
      "text/plain": [
       "'59369fb7-4a17-4b8b-9ab6-360a22d9365a'"
      ]
     },
     "execution_count": 32,
     "metadata": {},
     "output_type": "execute_result"
    }
   ],
   "source": [
    "model_uid = wml_client.repository.get_model_id(model_details); model_uid"
   ]
  },
  {
   "cell_type": "code",
   "execution_count": 33,
   "id": "a27a8a3f",
   "metadata": {},
   "outputs": [
    {
     "name": "stdout",
     "output_type": "stream",
     "text": [
      "\n",
      "\n",
      "#######################################################################################\n",
      "\n",
      "Synchronous deployment creation for uid: '59369fb7-4a17-4b8b-9ab6-360a22d9365a' started\n",
      "\n",
      "#######################################################################################\n",
      "\n",
      "\n",
      "initializing\n",
      "Note: online_url is deprecated and will be removed in a future release. Use serving_urls instead.\n",
      "\n",
      "ready\n",
      "\n",
      "\n",
      "------------------------------------------------------------------------------------------------\n",
      "Successfully finished deployment creation, deployment_uid='958ec0b7-0a5f-4196-a4c2-e1c715a6d115'\n",
      "------------------------------------------------------------------------------------------------\n",
      "\n",
      "\n"
     ]
    },
    {
     "data": {
      "text/plain": [
       "{'entity': {'asset': {'id': '59369fb7-4a17-4b8b-9ab6-360a22d9365a'},\n",
       "  'custom': {},\n",
       "  'deployed_asset_type': 'model',\n",
       "  'hardware_spec': {'id': 'e7ed1d6c-2e89-42d7-aed5-863b972c1d2b',\n",
       "   'name': 'S',\n",
       "   'num_nodes': 1},\n",
       "  'name': 'Sklearn Deployment',\n",
       "  'online': {},\n",
       "  'space_id': '5a3ffc60-22f0-423a-a620-45b4071d080d',\n",
       "  'status': {'online_url': {'url': 'https://eu-gb.ml.cloud.ibm.com/ml/v4/deployments/958ec0b7-0a5f-4196-a4c2-e1c715a6d115/predictions'},\n",
       "   'serving_urls': ['https://eu-gb.ml.cloud.ibm.com/ml/v4/deployments/958ec0b7-0a5f-4196-a4c2-e1c715a6d115/predictions'],\n",
       "   'state': 'ready'}},\n",
       " 'metadata': {'created_at': '2022-05-03T17:05:48.696Z',\n",
       "  'id': '958ec0b7-0a5f-4196-a4c2-e1c715a6d115',\n",
       "  'modified_at': '2022-05-03T17:05:48.696Z',\n",
       "  'name': 'Sklearn Deployment',\n",
       "  'owner': 'IBMid-6650022Q37',\n",
       "  'space_id': '5a3ffc60-22f0-423a-a620-45b4071d080d'},\n",
       " 'system': {'warnings': [{'id': 'Deprecated',\n",
       "    'message': 'online_url is deprecated and will be removed in a future release. Use serving_urls instead.'}]}}"
      ]
     },
     "execution_count": 33,
     "metadata": {},
     "output_type": "execute_result"
    }
   ],
   "source": [
    "deployment_props ={\n",
    "    wml_client.deployments.ConfigurationMetaNames.NAME:DEPLOYMENT_NAME,\n",
    "    wml_client.deployments.ConfigurationMetaNames.ONLINE: {}\n",
    "}\n",
    "\n",
    "deployment = wml_client.deployments.create(\n",
    "    artifact_uid = model_uid,\n",
    "    meta_props=deployment_props\n",
    ")\n",
    "\n",
    "deployment"
   ]
  },
  {
   "cell_type": "code",
   "execution_count": 34,
   "id": "3ce35ecb",
   "metadata": {},
   "outputs": [
    {
     "data": {
      "text/plain": [
       "{'predictions': [{'fields': ['prediction'],\n",
       "   'values': [[200.75940908152057],\n",
       "    [202.48789599313247],\n",
       "    [302.83031746252857],\n",
       "    [297.7633513183523],\n",
       "    [331.46453607138847],\n",
       "    [175.98411576123013],\n",
       "    [288.19835682303756],\n",
       "    [340.95455772595017],\n",
       "    [215.27070279435085],\n",
       "    [209.68854955185827],\n",
       "    [288.4789804388166],\n",
       "    [245.94632507820455],\n",
       "    [251.30554712478065],\n",
       "    [230.3513229261329],\n",
       "    [215.9874520821897],\n",
       "    [276.16483988951984],\n",
       "    [286.87227820453234],\n",
       "    [239.95533171945348],\n",
       "    [209.92081950932865],\n",
       "    [192.8901960616265],\n",
       "    [227.4556849431799],\n",
       "    [331.75702823968015],\n",
       "    [289.5173097737096],\n",
       "    [206.76907300274513],\n",
       "    [209.16179675418556],\n",
       "    [333.3377952939404],\n",
       "    [181.22116182953275],\n",
       "    [321.34535746561426],\n",
       "    [198.52476467170237],\n",
       "    [256.6895026735085],\n",
       "    [343.96097927842925],\n",
       "    [213.6363202656314],\n",
       "    [203.6873788920427],\n",
       "    [286.8728147397925],\n",
       "    [231.26341016199817],\n",
       "    [296.01334080920174],\n",
       "    [283.1403671584252],\n",
       "    [288.1700258116747],\n",
       "    [248.64671244526974],\n",
       "    [239.31827577969932],\n",
       "    [284.74170632204994],\n",
       "    [208.8214448717914],\n",
       "    [341.4927237825799],\n",
       "    [231.76881945406973],\n",
       "    [212.39361273168325],\n",
       "    [180.3252493490257],\n",
       "    [294.44941010041964],\n",
       "    [297.588862660141],\n",
       "    [327.2416539862859],\n",
       "    [205.30814870744297],\n",
       "    [301.65467212469855],\n",
       "    [213.45850997299698],\n",
       "    [229.171017421095],\n",
       "    [213.34943397735358],\n",
       "    [209.44310275548133],\n",
       "    [182.0009371963299],\n",
       "    [300.3739649382851],\n",
       "    [215.36177545830233],\n",
       "    [300.44798420353595],\n",
       "    [259.35591598168617],\n",
       "    [213.3912962176573],\n",
       "    [256.05734695984336],\n",
       "    [340.3808898388072],\n",
       "    [308.77862440626325],\n",
       "    [274.9203204723657],\n",
       "    [259.23481773323977],\n",
       "    [181.85708698432992],\n",
       "    [326.105771838955],\n",
       "    [281.66888972260267],\n",
       "    [210.83973243611192],\n",
       "    [210.73078338640582],\n",
       "    [211.84487976874303],\n",
       "    [298.9787166864958],\n",
       "    [300.5946634869035],\n",
       "    [214.183147264721],\n",
       "    [246.7266107149019],\n",
       "    [296.7873949705531],\n",
       "    [204.61273309232843],\n",
       "    [285.2027186317847],\n",
       "    [228.26145162295478],\n",
       "    [280.1463081111664],\n",
       "    [257.61070525083494],\n",
       "    [233.81627586777066],\n",
       "    [331.68314202754016],\n",
       "    [290.7394401169755],\n",
       "    [302.11365170073464],\n",
       "    [312.2244929525376],\n",
       "    [216.99935828877244],\n",
       "    [282.6101983090548],\n",
       "    [208.0112188839085],\n",
       "    [335.27243753636424],\n",
       "    [340.89397540377513],\n",
       "    [284.2577551586155],\n",
       "    [282.9112750974034],\n",
       "    [221.71707497358364],\n",
       "    [330.0154006905825],\n",
       "    [197.02106537384097],\n",
       "    [301.77321788551455],\n",
       "    [199.6678976256772],\n",
       "    [286.50296629689933],\n",
       "    [204.0112574551369],\n",
       "    [241.8072328964957],\n",
       "    [205.43643394343232],\n",
       "    [309.859051767652],\n",
       "    [175.4958697421913],\n",
       "    [340.72895304334963],\n",
       "    [218.029121732564],\n",
       "    [257.1161070846832],\n",
       "    [279.27293659461145],\n",
       "    [213.4463426515327],\n",
       "    [280.3725211260679],\n",
       "    [175.4373674710032],\n",
       "    [213.0993561823736],\n",
       "    [180.50660174689622],\n",
       "    [233.16688289553284],\n",
       "    [295.036691485143],\n",
       "    [307.895053482157],\n",
       "    [275.99684456924103],\n",
       "    [231.1014634427971],\n",
       "    [257.31307329154333],\n",
       "    [301.5957628601801],\n",
       "    [204.1067216009209],\n",
       "    [213.8097822167269],\n",
       "    [234.05364197669832],\n",
       "    [322.3388064781667],\n",
       "    [281.60769688321113],\n",
       "    [200.94738298512974],\n",
       "    [294.8240622107812],\n",
       "    [335.45316494234885],\n",
       "    [335.37555327242467],\n",
       "    [283.12669034001954],\n",
       "    [250.47355188130055],\n",
       "    [253.53463177082514],\n",
       "    [202.84638672605118],\n",
       "    [277.2250138876184],\n",
       "    [295.722362464076],\n",
       "    [259.82951855722536],\n",
       "    [284.2755424177012],\n",
       "    [239.1062627965518],\n",
       "    [306.0849071843486],\n",
       "    [277.6224410673942],\n",
       "    [206.10102769988558],\n",
       "    [207.59856716822168],\n",
       "    [186.37933246979466],\n",
       "    [326.26155305295674],\n",
       "    [183.23806048676482],\n",
       "    [285.91316648071404],\n",
       "    [239.9421674298402],\n",
       "    [302.3257019762792],\n",
       "    [180.00745174649094],\n",
       "    [207.6956319086799],\n",
       "    [320.12449693043743]]}]}"
      ]
     },
     "execution_count": 34,
     "metadata": {},
     "output_type": "execute_result"
    }
   ],
   "source": [
    " # test scoring\n",
    "deployment_uid = wml_client.deployments.get_uid(deployment)\n",
    "payload = {'input_data':[{'fields':x_test.columns.to_numpy().tolist(), 'values':x_test.to_numpy().tolist()}]}\n",
    "result = wml_client.deployments.score(deployment_uid, payload); result"
   ]
  },
  {
   "cell_type": "code",
   "execution_count": 35,
   "id": "65948ffa",
   "metadata": {},
   "outputs": [
    {
     "data": {
      "text/plain": [
       "{'input_data': [{'fields': ['Open', 'High', 'Low'],\n",
       "   'values': [[204.51820530091314, 205.9297046283839, 198.63535407526453],\n",
       "    [202.4058965489362, 205.4065581229983, 199.4644710435926],\n",
       "    [299.1400146484375, 304.20001220703125, 298.32000732421875],\n",
       "    [299.6510442219756, 300.96592210061516, 295.8458811484835],\n",
       "    [333.66010258397336, 337.2327021507327, 327.44294670883943],\n",
       "    [177.43871794573192, 179.20129745018147, 173.89389124804822],\n",
       "    [288.0726205247525, 289.862188084487, 286.1438488694623],\n",
       "    [342.4419106991573, 343.1005524568178, 339.617763747979],\n",
       "    [216.32565307617185, 217.41426436999777, 213.7822831998337],\n",
       "    [209.57628468317432, 210.8727120134627, 208.1808872098175],\n",
       "    [290.9184609761206, 294.3813021285497, 284.5815880537968],\n",
       "    [244.45878253262077, 247.84123477037068, 242.71300805612293],\n",
       "    [250.112734257667, 252.24537229661624, 249.1406564590998],\n",
       "    [230.68099529889233, 232.2978303206355, 228.46901714554986],\n",
       "    [211.82278787481908, 217.06788905863192, 211.4962195796822],\n",
       "    [277.5438827537992, 278.15033676108783, 274.97880197111976],\n",
       "    [291.7900085449219, 292.6099853515625, 285.0],\n",
       "    [242.4620519168311, 243.37251985071765, 238.3946266867688],\n",
       "    [207.87411803933438, 211.1102486951153, 206.9438529804284],\n",
       "    [196.66945823799048, 196.82701010409113, 191.89378561847684],\n",
       "    [230.28424494830122, 231.69277010769719, 225.42382588057845],\n",
       "    [329.96280672952867, 332.4730034023702, 329.22569199839864],\n",
       "    [294.2900085449219, 295.6600036621094, 287.1700134277344],\n",
       "    [204.37999917257528, 207.39052572789515, 204.04440344150171],\n",
       "    [213.01509856088867, 213.06433539770455, 208.22956950686265],\n",
       "    [330.95568178928187, 335.10707090839315, 329.4188510226862],\n",
       "    [181.47589337561564, 182.992288670058, 179.50654025168052],\n",
       "    [323.06968838862986, 323.6075985405061, 320.1112281517975],\n",
       "    [194.6377721554711, 200.08633101027274, 193.83825839562468],\n",
       "    [255.18141619188057, 257.0958150317722, 254.75486747341955],\n",
       "    [341.93300709675043, 344.3879225756977, 341.4939125617052],\n",
       "    [210.36155777413322, 214.11237693624273, 210.36155777413322],\n",
       "    [201.42870104667418, 204.67611149550677, 200.73774919427825],\n",
       "    [285.19000244140625, 290.9800109863281, 281.4599914550781],\n",
       "    [229.65931831008706, 233.46828883625133, 227.68539135719558],\n",
       "    [291.78179323184054, 296.8121579269277, 291.6124404374127],\n",
       "    [284.70220544707485, 285.1098355379222, 282.0973778654276],\n",
       "    [293.04998779296875, 293.8599853515625, 286.30999755859375],\n",
       "    [249.71593196652358, 250.02413489607696, 247.8070489963143],\n",
       "    [239.7207433207992, 240.75986942613758, 237.9294954662479],\n",
       "    [287.1280919276822, 287.5754989630373, 283.5489570084748],\n",
       "    [210.3466371821936, 210.79959508667307, 207.84556491173365],\n",
       "    [339.977003512946, 343.0806019008748, 338.3802990032293],\n",
       "    [233.39887487888373, 235.0256237415338, 229.69901599737253],\n",
       "    [211.09198733299297, 213.4510527002691, 210.0950652950479],\n",
       "    [178.7919522790622, 180.87366395531606, 178.35008149651193],\n",
       "    [295.1400146484375, 297.6300048828125, 291.6499938964844],\n",
       "    [297.07112462877444, 298.63500069224415, 295.77615803478585],\n",
       "    [334.1390833275493, 334.5083454347877, 325.4470644603489],\n",
       "    [206.64036820616045, 207.351050379637, 204.13323524381448],\n",
       "    [301.1651643713513, 303.26698114634956, 299.35222922683],\n",
       "    [209.97212695757102, 214.24738328111687, 209.74451375815875],\n",
       "    [229.1534459092258, 230.5917274047784, 227.4969407235338],\n",
       "    [212.62440439997206, 214.02969300292224, 211.82278239410914],\n",
       "    [211.72371911968042, 213.69783305086625, 207.00558802904982],\n",
       "    [182.55904639612953, 183.8095899588706, 180.48137804660357],\n",
       "    [303.1175359070269, 303.4064175338921, 299.25263838434796],\n",
       "    [216.20688932442297, 216.6423338184956, 214.4849083980606],\n",
       "    [298.04729489560685, 302.09151575780794, 296.6726525574123],\n",
       "    [254.58756266701192, 260.2346726366802, 254.5279124472616],\n",
       "    [210.3418358865179, 213.80640025711125, 210.3418358865179],\n",
       "    [256.4964304970983, 256.9935358891797, 255.12441476040863],\n",
       "    [337.4821756094738, 341.7433841744724, 336.4243653014645],\n",
       "    [303.62220174381093, 310.1786523247551, 303.12323345828287],\n",
       "    [277.3152400140035, 278.7469061422262, 272.8611945847852],\n",
       "    [259.54589456265666, 260.3195912610325, 258.0679428586971],\n",
       "    [181.6887080239873, 183.2303639944105, 180.17652409506218],\n",
       "    [332.53241070991885, 333.9494939781354, 323.44119311351625],\n",
       "    [291.59707496915814, 296.4969166779532, 275.48037516394237],\n",
       "    [206.82789808417672, 212.2172354342671, 206.20606247318824],\n",
       "    [207.4188664998151, 212.03059747156175, 206.69643275296892],\n",
       "    [209.08622722707082, 213.05447275323186, 208.30833931814675],\n",
       "    [298.3959743377086, 300.21888039001544, 296.9416560832242],\n",
       "    [301.02570493092804, 302.1811705809236, 299.01353491502414],\n",
       "    [211.80299373353577, 214.51460069950176, 211.71391455744518],\n",
       "    [240.7985868536875, 247.94042572340953, 240.73907405235715],\n",
       "    [298.8900146484375, 300.1400146484375, 294.8999938964844],\n",
       "    [200.9154355381924, 206.3343682942848, 199.91849842733038],\n",
       "    [288.5799865722656, 293.29998779296875, 280.05999755859375],\n",
       "    [227.66556361551417, 231.38526493856182, 224.6302897575878],\n",
       "    [280.4370604218618, 282.45530722422967, 277.84215433829905],\n",
       "    [255.8460284945033, 257.829869348685, 255.64766257169057],\n",
       "    [228.40951190131358, 234.98593377926755, 228.28055740755826],\n",
       "    [329.0264610669947, 332.15427407631984, 328.7176681137163],\n",
       "    [287.8041470991698, 291.2043309709251, 287.62516609994185],\n",
       "    [303.83472917591627, 304.46228595856456, 300.8264753658943],\n",
       "    [313.501756691764, 315.84691364227245, 309.4501367919947],\n",
       "    [212.52542617169033, 217.82990307038875, 212.49573814675577],\n",
       "    [287.75444874455144, 287.90357430890253, 281.31198163731773],\n",
       "    [205.99436616676022, 209.04686999908475, 205.19678043008153],\n",
       "    [335.80002743362667, 337.40378702698956, 333.2300662951523],\n",
       "    [334.288793112399, 342.2922331990509, 334.0991827334421],\n",
       "    [282.196786968884, 284.76186779777464, 281.7792354280263],\n",
       "    [290.17999267578125, 291.70001220703125, 280.1000061035156],\n",
       "    [215.4448664040952, 223.45105935154317, 215.03910992524072],\n",
       "    [327.62256806830214, 332.9216088884924, 325.07784196309717],\n",
       "    [197.34887289202658, 199.75148608464525, 194.4834605176344],\n",
       "    [305.5382398993629, 307.204776845025, 299.28115838355694],\n",
       "    [197.92001730177606, 201.32700530512358, 196.51193682848233],\n",
       "    [289.3999938964844, 289.70001220703125, 285.3699951171875],\n",
       "    [206.11722747693148, 207.4596103916015, 202.1689999077808],\n",
       "    [244.28024106993837, 244.419109320475, 240.9374590308356],\n",
       "    [205.56108996319193, 206.3783733774117, 204.3302441631573],\n",
       "    [304.3299865722656, 310.79998779296875, 304.3299865722656],\n",
       "    [179.25349919056788, 180.72641205986875, 173.3520187049591],\n",
       "    [334.7677806152791, 341.7733145633332, 334.7378437374928],\n",
       "    [220.11368972317172, 221.3179003516728, 216.29378432202913],\n",
       "    [255.73692296676424, 258.09769834526674, 254.7648300841432],\n",
       "    [280.36746191763933, 280.8745191642404, 278.2100110060752],\n",
       "    [210.89251352596526, 213.97029779156367, 210.67479128718537],\n",
       "    [275.9133718048119, 281.21253238874954, 275.78414988646483],\n",
       "    [174.33393200572866, 177.42705751355615, 172.50751974822086],\n",
       "    [213.30300737259284, 214.86254405909872, 211.3091481682807],\n",
       "    [175.8265103329728, 183.68204535945742, 173.80371246097206],\n",
       "    [233.99401382588678, 235.551336102424, 231.2662327547963],\n",
       "    [307.3544709666157, 307.8634283570237, 292.425348575847],\n",
       "    [309.193820477582, 309.881141660547, 306.603917654713],\n",
       "    [274.12381385762416, 276.4403117634661, 273.7261355900389],\n",
       "    [235.08512660652391, 235.08512660652391, 230.1651949343776],\n",
       "    [257.3735728420619, 258.8912097573856, 255.51868664233362],\n",
       "    [302.5796175265063, 304.1235821646728, 299.5912753372895],\n",
       "    [206.34883981517675, 208.0917217217682, 201.88825571820132],\n",
       "    [214.39864529992488, 216.27404746784154, 211.68423870561233],\n",
       "    [229.6791755474976, 234.79748853093747, 229.6791755474976],\n",
       "    [323.28156904984655, 326.7743470990455, 318.571307148171],\n",
       "    [278.9100036621094, 282.4599914550781, 278.3399963378906],\n",
       "    [199.39701237004306, 201.51406105929152, 198.91451542494764],\n",
       "    [287.56820166748366, 296.3140828488646, 287.51840811866737],\n",
       "    [335.58609661309083, 337.46222217074154, 333.22099189899507],\n",
       "    [332.06339028598387, 335.6958939820043, 332.0434425184456],\n",
       "    [289.239990234375, 290.739990234375, 280.489990234375],\n",
       "    [251.35260865071294, 252.29494508417343, 249.0910314814143],\n",
       "    [252.3406453182307, 254.05068913902298, 251.74412792963423],\n",
       "    [204.01515678830614, 207.6879964726862, 199.05237807605903],\n",
       "    [277.78248722226874, 279.0650276301942, 275.54551295632916],\n",
       "    [302.8900146484375, 303.1300048828125, 294.04998779296875],\n",
       "    [259.4665300609276, 261.06353767753876, 258.01833472407577],\n",
       "    [279.3800048828125, 286.1700134277344, 278.4100036621094],\n",
       "    [241.78059348564895, 241.8897053332575, 238.2394304514019],\n",
       "    [308.1578792529116, 308.1977323332675, 305.26915410647274],\n",
       "    [273.2900085449219, 281.1099853515625, 270.7699890136719],\n",
       "    [201.8587028962421, 209.0468450775418, 199.8991910542592],\n",
       "    [208.75264944426144, 209.35475469872284, 206.54163677547217],\n",
       "    [190.17060819818357, 192.76029759760615, 183.21879338095655],\n",
       "    [330.0723758733829, 330.20187557896605, 325.1017759064084],\n",
       "    [179.84263073828586, 184.12389749185908, 179.548060191331],\n",
       "    [285.54729255110897, 286.98891043419917, 284.2051018221814],\n",
       "    [236.54326588959358, 240.87795332050624, 236.12666112571796],\n",
       "    [298.55535299032294, 304.65156710706293, 296.90179974967236],\n",
       "    [183.42674183691884, 183.6623982932621, 179.00800348155903],\n",
       "    [208.76478181756735, 210.0908972343157, 206.0036898617571],\n",
       "    [319.0103862481932, 322.7426591518641, 316.42570381678]]}]}"
      ]
     },
     "execution_count": 35,
     "metadata": {},
     "output_type": "execute_result"
    }
   ],
   "source": [
    "payload"
   ]
  },
  {
   "cell_type": "code",
   "execution_count": null,
   "id": "0ee12d72",
   "metadata": {},
   "outputs": [],
   "source": [
    "pred_values = np.squeeze(result['predictions'][0]['values']); pred_values\n",
    "preddf = x_test.join(y_test)\n",
    "preddf['PRED'] = pred_values\n",
    "preddf.head()"
   ]
  },
  {
   "cell_type": "code",
   "execution_count": null,
   "id": "06b3c4df",
   "metadata": {},
   "outputs": [],
   "source": [
    "deployment_uid"
   ]
  },
  {
   "cell_type": "code",
   "execution_count": 37,
   "id": "658c417a",
   "metadata": {},
   "outputs": [
    {
     "data": {
      "text/plain": [
       "['Open', 'High', 'Low']"
      ]
     },
     "execution_count": 37,
     "metadata": {},
     "output_type": "execute_result"
    }
   ],
   "source": [
    "x_test.columns.to_numpy().tolist()"
   ]
  },
  {
   "cell_type": "code",
   "execution_count": 39,
   "id": "554436a6",
   "metadata": {},
   "outputs": [
    {
     "data": {
      "text/plain": [
       "[204.51820530091314, 205.9297046283839, 198.63535407526453]"
      ]
     },
     "execution_count": 39,
     "metadata": {},
     "output_type": "execute_result"
    }
   ],
   "source": [
    "x_test.iloc[0].to_numpy().tolist()"
   ]
  },
  {
   "cell_type": "code",
   "execution_count": 45,
   "id": "f68bc482",
   "metadata": {},
   "outputs": [
    {
     "data": {
      "text/html": [
       "<div>\n",
       "<style scoped>\n",
       "    .dataframe tbody tr th:only-of-type {\n",
       "        vertical-align: middle;\n",
       "    }\n",
       "\n",
       "    .dataframe tbody tr th {\n",
       "        vertical-align: top;\n",
       "    }\n",
       "\n",
       "    .dataframe thead th {\n",
       "        text-align: right;\n",
       "    }\n",
       "</style>\n",
       "<table border=\"1\" class=\"dataframe\">\n",
       "  <thead>\n",
       "    <tr style=\"text-align: right;\">\n",
       "      <th></th>\n",
       "      <th>Open</th>\n",
       "      <th>High</th>\n",
       "      <th>Low</th>\n",
       "    </tr>\n",
       "    <tr>\n",
       "      <th>Date</th>\n",
       "      <th></th>\n",
       "      <th></th>\n",
       "      <th></th>\n",
       "    </tr>\n",
       "  </thead>\n",
       "  <tbody>\n",
       "    <tr>\n",
       "      <th>2021-04-01</th>\n",
       "      <td>236.543266</td>\n",
       "      <td>240.877953</td>\n",
       "      <td>236.126661</td>\n",
       "    </tr>\n",
       "    <tr>\n",
       "      <th>2021-08-20</th>\n",
       "      <td>298.555353</td>\n",
       "      <td>304.651567</td>\n",
       "      <td>296.901800</td>\n",
       "    </tr>\n",
       "    <tr>\n",
       "      <th>2020-05-12</th>\n",
       "      <td>183.426742</td>\n",
       "      <td>183.662398</td>\n",
       "      <td>179.008003</td>\n",
       "    </tr>\n",
       "    <tr>\n",
       "      <th>2020-11-23</th>\n",
       "      <td>208.764782</td>\n",
       "      <td>210.090897</td>\n",
       "      <td>206.003690</td>\n",
       "    </tr>\n",
       "    <tr>\n",
       "      <th>2022-01-12</th>\n",
       "      <td>319.010386</td>\n",
       "      <td>322.742659</td>\n",
       "      <td>316.425704</td>\n",
       "    </tr>\n",
       "  </tbody>\n",
       "</table>\n",
       "</div>"
      ],
      "text/plain": [
       "                  Open        High         Low\n",
       "Date                                          \n",
       "2021-04-01  236.543266  240.877953  236.126661\n",
       "2021-08-20  298.555353  304.651567  296.901800\n",
       "2020-05-12  183.426742  183.662398  179.008003\n",
       "2020-11-23  208.764782  210.090897  206.003690\n",
       "2022-01-12  319.010386  322.742659  316.425704"
      ]
     },
     "execution_count": 45,
     "metadata": {},
     "output_type": "execute_result"
    }
   ],
   "source": [
    "x_test.tail()"
   ]
  },
  {
   "cell_type": "code",
   "execution_count": 62,
   "id": "f548fab2",
   "metadata": {},
   "outputs": [
    {
     "data": {
      "text/html": [
       "<div>\n",
       "<style scoped>\n",
       "    .dataframe tbody tr th:only-of-type {\n",
       "        vertical-align: middle;\n",
       "    }\n",
       "\n",
       "    .dataframe tbody tr th {\n",
       "        vertical-align: top;\n",
       "    }\n",
       "\n",
       "    .dataframe thead th {\n",
       "        text-align: right;\n",
       "    }\n",
       "</style>\n",
       "<table border=\"1\" class=\"dataframe\">\n",
       "  <thead>\n",
       "    <tr style=\"text-align: right;\">\n",
       "      <th></th>\n",
       "      <th>Open</th>\n",
       "      <th>High</th>\n",
       "      <th>Low</th>\n",
       "    </tr>\n",
       "  </thead>\n",
       "  <tbody>\n",
       "    <tr>\n",
       "      <th>2022-05-03</th>\n",
       "      <td>283.96</td>\n",
       "      <td>284.13</td>\n",
       "      <td>280.15</td>\n",
       "    </tr>\n",
       "  </tbody>\n",
       "</table>\n",
       "</div>"
      ],
      "text/plain": [
       "              Open    High     Low\n",
       "2022-05-03  283.96  284.13  280.15"
      ]
     },
     "execution_count": 62,
     "metadata": {},
     "output_type": "execute_result"
    }
   ],
   "source": [
    "cols = ['Open','High', 'Low']\n",
    "data = {\n",
    "    'Open': 283.96,\n",
    "    'High': 284.13,\n",
    "    'Low':280.15\n",
    "}\n",
    "index = [pd.to_datetime('today').normalize()]\n",
    "new_test = pd.DataFrame(data, columns=cols, index=index)\n",
    "new_test"
   ]
  },
  {
   "cell_type": "code",
   "execution_count": 64,
   "id": "4d2e59a1",
   "metadata": {},
   "outputs": [
    {
     "data": {
      "text/plain": [
       "281.1453739393933"
      ]
     },
     "execution_count": 64,
     "metadata": {},
     "output_type": "execute_result"
    }
   ],
   "source": [
    "model.predict(new_test)[0]"
   ]
  },
  {
   "cell_type": "code",
   "execution_count": null,
   "id": "a71e2c11",
   "metadata": {},
   "outputs": [],
   "source": []
  }
 ],
 "metadata": {
  "kernelspec": {
   "display_name": "Python 3 (ipykernel)",
   "language": "python",
   "name": "python3"
  },
  "language_info": {
   "codemirror_mode": {
    "name": "ipython",
    "version": 3
   },
   "file_extension": ".py",
   "mimetype": "text/x-python",
   "name": "python",
   "nbconvert_exporter": "python",
   "pygments_lexer": "ipython3",
   "version": "3.9.7"
  }
 },
 "nbformat": 4,
 "nbformat_minor": 5
}
