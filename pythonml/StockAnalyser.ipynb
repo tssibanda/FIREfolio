{
 "cells": [
  {
   "cell_type": "markdown",
   "id": "d1ecfde9",
   "metadata": {},
   "source": [
    "#  Machine Learning Script to predict stocks\n",
    "## By Thamsanqa Sibanda C18727971"
   ]
  },
  {
   "cell_type": "markdown",
   "id": "1bfb8e92",
   "metadata": {},
   "source": [
    "### 1. Import Libraries"
   ]
  },
  {
   "cell_type": "code",
   "execution_count": 1,
   "id": "474a6ba6",
   "metadata": {},
   "outputs": [],
   "source": [
    "# Import libraries\n",
    "import yfinance as yf\n",
    "import pandas as pd\n",
    "import numpy as np\n",
    "\n",
    "from matplotlib import pyplot as plt\n",
    "import seaborn as sns\n",
    "\n",
    "from sklearn.linear_model import LinearRegression\n",
    "from sklearn.model_selection import train_test_split\n",
    "\n",
    "\n"
   ]
  },
  {
   "cell_type": "markdown",
   "id": "37a5d1c4",
   "metadata": {},
   "source": [
    "### 2. get dataset"
   ]
  },
  {
   "cell_type": "code",
   "execution_count": 2,
   "id": "b656f026",
   "metadata": {},
   "outputs": [],
   "source": [
    "stock = yf.Ticker('MSFT')\n",
    "df = pd.DataFrame(stock.history(period='2y'))\n"
   ]
  },
  {
   "cell_type": "code",
   "execution_count": 3,
   "id": "835c915f",
   "metadata": {},
   "outputs": [
    {
     "data": {
      "text/html": [
       "<div>\n",
       "<style scoped>\n",
       "    .dataframe tbody tr th:only-of-type {\n",
       "        vertical-align: middle;\n",
       "    }\n",
       "\n",
       "    .dataframe tbody tr th {\n",
       "        vertical-align: top;\n",
       "    }\n",
       "\n",
       "    .dataframe thead th {\n",
       "        text-align: right;\n",
       "    }\n",
       "</style>\n",
       "<table border=\"1\" class=\"dataframe\">\n",
       "  <thead>\n",
       "    <tr style=\"text-align: right;\">\n",
       "      <th></th>\n",
       "      <th>Open</th>\n",
       "      <th>High</th>\n",
       "      <th>Low</th>\n",
       "      <th>Close</th>\n",
       "      <th>Volume</th>\n",
       "      <th>Dividends</th>\n",
       "      <th>Stock Splits</th>\n",
       "    </tr>\n",
       "    <tr>\n",
       "      <th>Date</th>\n",
       "      <th></th>\n",
       "      <th></th>\n",
       "      <th></th>\n",
       "      <th></th>\n",
       "      <th></th>\n",
       "      <th></th>\n",
       "      <th></th>\n",
       "    </tr>\n",
       "  </thead>\n",
       "  <tbody>\n",
       "    <tr>\n",
       "      <th>2020-05-04</th>\n",
       "      <td>171.339021</td>\n",
       "      <td>175.767573</td>\n",
       "      <td>170.661479</td>\n",
       "      <td>175.610458</td>\n",
       "      <td>30372900</td>\n",
       "      <td>0.0</td>\n",
       "      <td>0</td>\n",
       "    </tr>\n",
       "    <tr>\n",
       "      <th>2020-05-05</th>\n",
       "      <td>177.358333</td>\n",
       "      <td>180.333615</td>\n",
       "      <td>176.651333</td>\n",
       "      <td>177.495804</td>\n",
       "      <td>36839200</td>\n",
       "      <td>0.0</td>\n",
       "      <td>0</td>\n",
       "    </tr>\n",
       "    <tr>\n",
       "      <th>2020-05-06</th>\n",
       "      <td>178.791983</td>\n",
       "      <td>180.873695</td>\n",
       "      <td>178.350112</td>\n",
       "      <td>179.243668</td>\n",
       "      <td>32139300</td>\n",
       "      <td>0.0</td>\n",
       "      <td>0</td>\n",
       "    </tr>\n",
       "    <tr>\n",
       "      <th>2020-05-07</th>\n",
       "      <td>180.844230</td>\n",
       "      <td>181.217372</td>\n",
       "      <td>179.282946</td>\n",
       "      <td>180.284531</td>\n",
       "      <td>28316000</td>\n",
       "      <td>0.0</td>\n",
       "      <td>0</td>\n",
       "    </tr>\n",
       "    <tr>\n",
       "      <th>2020-05-08</th>\n",
       "      <td>181.639587</td>\n",
       "      <td>181.659230</td>\n",
       "      <td>180.048846</td>\n",
       "      <td>181.345001</td>\n",
       "      <td>30877800</td>\n",
       "      <td>0.0</td>\n",
       "      <td>0</td>\n",
       "    </tr>\n",
       "  </tbody>\n",
       "</table>\n",
       "</div>"
      ],
      "text/plain": [
       "                  Open        High         Low       Close    Volume  \\\n",
       "Date                                                                   \n",
       "2020-05-04  171.339021  175.767573  170.661479  175.610458  30372900   \n",
       "2020-05-05  177.358333  180.333615  176.651333  177.495804  36839200   \n",
       "2020-05-06  178.791983  180.873695  178.350112  179.243668  32139300   \n",
       "2020-05-07  180.844230  181.217372  179.282946  180.284531  28316000   \n",
       "2020-05-08  181.639587  181.659230  180.048846  181.345001  30877800   \n",
       "\n",
       "            Dividends  Stock Splits  \n",
       "Date                                 \n",
       "2020-05-04        0.0             0  \n",
       "2020-05-05        0.0             0  \n",
       "2020-05-06        0.0             0  \n",
       "2020-05-07        0.0             0  \n",
       "2020-05-08        0.0             0  "
      ]
     },
     "execution_count": 3,
     "metadata": {},
     "output_type": "execute_result"
    }
   ],
   "source": [
    "df.head(5)"
   ]
  },
  {
   "cell_type": "code",
   "execution_count": 4,
   "id": "6b44c69e",
   "metadata": {},
   "outputs": [
    {
     "data": {
      "text/html": [
       "<div>\n",
       "<style scoped>\n",
       "    .dataframe tbody tr th:only-of-type {\n",
       "        vertical-align: middle;\n",
       "    }\n",
       "\n",
       "    .dataframe tbody tr th {\n",
       "        vertical-align: top;\n",
       "    }\n",
       "\n",
       "    .dataframe thead th {\n",
       "        text-align: right;\n",
       "    }\n",
       "</style>\n",
       "<table border=\"1\" class=\"dataframe\">\n",
       "  <thead>\n",
       "    <tr style=\"text-align: right;\">\n",
       "      <th></th>\n",
       "      <th>Open</th>\n",
       "      <th>High</th>\n",
       "      <th>Low</th>\n",
       "      <th>Close</th>\n",
       "      <th>Volume</th>\n",
       "      <th>Dividends</th>\n",
       "      <th>Stock Splits</th>\n",
       "    </tr>\n",
       "  </thead>\n",
       "  <tbody>\n",
       "    <tr>\n",
       "      <th>Open</th>\n",
       "      <td>1.000000</td>\n",
       "      <td>0.998888</td>\n",
       "      <td>0.998515</td>\n",
       "      <td>0.996965</td>\n",
       "      <td>-0.139328</td>\n",
       "      <td>-0.001543</td>\n",
       "      <td>NaN</td>\n",
       "    </tr>\n",
       "    <tr>\n",
       "      <th>High</th>\n",
       "      <td>0.998888</td>\n",
       "      <td>1.000000</td>\n",
       "      <td>0.998302</td>\n",
       "      <td>0.998478</td>\n",
       "      <td>-0.124343</td>\n",
       "      <td>-0.002076</td>\n",
       "      <td>NaN</td>\n",
       "    </tr>\n",
       "    <tr>\n",
       "      <th>Low</th>\n",
       "      <td>0.998515</td>\n",
       "      <td>0.998302</td>\n",
       "      <td>1.000000</td>\n",
       "      <td>0.998642</td>\n",
       "      <td>-0.166377</td>\n",
       "      <td>0.000899</td>\n",
       "      <td>NaN</td>\n",
       "    </tr>\n",
       "    <tr>\n",
       "      <th>Close</th>\n",
       "      <td>0.996965</td>\n",
       "      <td>0.998478</td>\n",
       "      <td>0.998642</td>\n",
       "      <td>1.000000</td>\n",
       "      <td>-0.148191</td>\n",
       "      <td>-0.000519</td>\n",
       "      <td>NaN</td>\n",
       "    </tr>\n",
       "    <tr>\n",
       "      <th>Volume</th>\n",
       "      <td>-0.139328</td>\n",
       "      <td>-0.124343</td>\n",
       "      <td>-0.166377</td>\n",
       "      <td>-0.148191</td>\n",
       "      <td>1.000000</td>\n",
       "      <td>-0.051404</td>\n",
       "      <td>NaN</td>\n",
       "    </tr>\n",
       "    <tr>\n",
       "      <th>Dividends</th>\n",
       "      <td>-0.001543</td>\n",
       "      <td>-0.002076</td>\n",
       "      <td>0.000899</td>\n",
       "      <td>-0.000519</td>\n",
       "      <td>-0.051404</td>\n",
       "      <td>1.000000</td>\n",
       "      <td>NaN</td>\n",
       "    </tr>\n",
       "    <tr>\n",
       "      <th>Stock Splits</th>\n",
       "      <td>NaN</td>\n",
       "      <td>NaN</td>\n",
       "      <td>NaN</td>\n",
       "      <td>NaN</td>\n",
       "      <td>NaN</td>\n",
       "      <td>NaN</td>\n",
       "      <td>NaN</td>\n",
       "    </tr>\n",
       "  </tbody>\n",
       "</table>\n",
       "</div>"
      ],
      "text/plain": [
       "                  Open      High       Low     Close    Volume  Dividends  \\\n",
       "Open          1.000000  0.998888  0.998515  0.996965 -0.139328  -0.001543   \n",
       "High          0.998888  1.000000  0.998302  0.998478 -0.124343  -0.002076   \n",
       "Low           0.998515  0.998302  1.000000  0.998642 -0.166377   0.000899   \n",
       "Close         0.996965  0.998478  0.998642  1.000000 -0.148191  -0.000519   \n",
       "Volume       -0.139328 -0.124343 -0.166377 -0.148191  1.000000  -0.051404   \n",
       "Dividends    -0.001543 -0.002076  0.000899 -0.000519 -0.051404   1.000000   \n",
       "Stock Splits       NaN       NaN       NaN       NaN       NaN        NaN   \n",
       "\n",
       "              Stock Splits  \n",
       "Open                   NaN  \n",
       "High                   NaN  \n",
       "Low                    NaN  \n",
       "Close                  NaN  \n",
       "Volume                 NaN  \n",
       "Dividends              NaN  \n",
       "Stock Splits           NaN  "
      ]
     },
     "execution_count": 4,
     "metadata": {},
     "output_type": "execute_result"
    }
   ],
   "source": [
    "df.corr()"
   ]
  },
  {
   "cell_type": "code",
   "execution_count": 5,
   "id": "d3b6990b",
   "metadata": {},
   "outputs": [
    {
     "data": {
      "image/png": "[encoded data removed]",
      "text/plain": [
       "<Figure size 432x288 with 2 Axes>"
      ]
     },
     "metadata": {
      "needs_background": "light"
     },
     "output_type": "display_data"
    }
   ],
   "source": [
    "sns.heatmap(df.corr(), cmap='Reds', annot=True)\n",
    "plt.title('Correlation Matrix');"
   ]
  },
  {
   "cell_type": "markdown",
   "id": "0a4fc60f",
   "metadata": {},
   "source": [
    "### 3. Preparing the dataset for the model"
   ]
  },
  {
   "cell_type": "code",
   "execution_count": 6,
   "id": "65e9442f",
   "metadata": {},
   "outputs": [
    {
     "name": "stdout",
     "output_type": "stream",
     "text": [
      "<class 'pandas.core.frame.DataFrame'>\n",
      "DatetimeIndex: 504 entries, 2020-05-04 to 2022-05-02\n",
      "Data columns (total 7 columns):\n",
      " #   Column        Non-Null Count  Dtype  \n",
      "---  ------        --------------  -----  \n",
      " 0   Open          504 non-null    float64\n",
      " 1   High          504 non-null    float64\n",
      " 2   Low           504 non-null    float64\n",
      " 3   Close         504 non-null    float64\n",
      " 4   Volume        504 non-null    int64  \n",
      " 5   Dividends     504 non-null    float64\n",
      " 6   Stock Splits  504 non-null    int64  \n",
      "dtypes: float64(5), int64(2)\n",
      "memory usage: 31.5 KB\n"
     ]
    }
   ],
   "source": [
    "# check if there are any missing values in the dataset\n",
    "df.info()"
   ]
  },
  {
   "cell_type": "code",
   "execution_count": 7,
   "id": "274b3be8",
   "metadata": {},
   "outputs": [
    {
     "data": {
      "image/png": "[encoded data removed]",
      "text/plain": [
       "<Figure size 1080x432 with 1 Axes>"
      ]
     },
     "metadata": {
      "needs_background": "light"
     },
     "output_type": "display_data"
    }
   ],
   "source": [
    "plt.figure(figsize=(15,6))\n",
    "sns.lineplot(data=df, x=\"Date\", y=\"Close\", ).set_title('Microsoft Stock Chart')\n",
    "plt.show()"
   ]
  },
  {
   "cell_type": "code",
   "execution_count": 8,
   "id": "27c93ee6",
   "metadata": {},
   "outputs": [
    {
     "data": {
      "text/html": [
       "<div>\n",
       "<style scoped>\n",
       "    .dataframe tbody tr th:only-of-type {\n",
       "        vertical-align: middle;\n",
       "    }\n",
       "\n",
       "    .dataframe tbody tr th {\n",
       "        vertical-align: top;\n",
       "    }\n",
       "\n",
       "    .dataframe thead th {\n",
       "        text-align: right;\n",
       "    }\n",
       "</style>\n",
       "<table border=\"1\" class=\"dataframe\">\n",
       "  <thead>\n",
       "    <tr style=\"text-align: right;\">\n",
       "      <th></th>\n",
       "      <th>Open</th>\n",
       "      <th>High</th>\n",
       "      <th>Low</th>\n",
       "      <th>Close</th>\n",
       "      <th>Volume</th>\n",
       "      <th>Prev_Close</th>\n",
       "      <th>Target</th>\n",
       "    </tr>\n",
       "    <tr>\n",
       "      <th>Date</th>\n",
       "      <th></th>\n",
       "      <th></th>\n",
       "      <th></th>\n",
       "      <th></th>\n",
       "      <th></th>\n",
       "      <th></th>\n",
       "      <th></th>\n",
       "    </tr>\n",
       "  </thead>\n",
       "  <tbody>\n",
       "    <tr>\n",
       "      <th>2020-05-05</th>\n",
       "      <td>177.358333</td>\n",
       "      <td>180.333615</td>\n",
       "      <td>176.651333</td>\n",
       "      <td>177.495804</td>\n",
       "      <td>36839200</td>\n",
       "      <td>175.610458</td>\n",
       "      <td>1</td>\n",
       "    </tr>\n",
       "    <tr>\n",
       "      <th>2020-05-06</th>\n",
       "      <td>178.791983</td>\n",
       "      <td>180.873695</td>\n",
       "      <td>178.350112</td>\n",
       "      <td>179.243668</td>\n",
       "      <td>32139300</td>\n",
       "      <td>177.495804</td>\n",
       "      <td>1</td>\n",
       "    </tr>\n",
       "    <tr>\n",
       "      <th>2020-05-07</th>\n",
       "      <td>180.844230</td>\n",
       "      <td>181.217372</td>\n",
       "      <td>179.282946</td>\n",
       "      <td>180.284531</td>\n",
       "      <td>28316000</td>\n",
       "      <td>179.243668</td>\n",
       "      <td>1</td>\n",
       "    </tr>\n",
       "    <tr>\n",
       "      <th>2020-05-08</th>\n",
       "      <td>181.639587</td>\n",
       "      <td>181.659230</td>\n",
       "      <td>180.048846</td>\n",
       "      <td>181.345001</td>\n",
       "      <td>30877800</td>\n",
       "      <td>180.284531</td>\n",
       "      <td>1</td>\n",
       "    </tr>\n",
       "    <tr>\n",
       "      <th>2020-05-11</th>\n",
       "      <td>179.842631</td>\n",
       "      <td>184.123897</td>\n",
       "      <td>179.548060</td>\n",
       "      <td>183.367813</td>\n",
       "      <td>30892700</td>\n",
       "      <td>181.345001</td>\n",
       "      <td>1</td>\n",
       "    </tr>\n",
       "  </tbody>\n",
       "</table>\n",
       "</div>"
      ],
      "text/plain": [
       "                  Open        High         Low       Close    Volume  \\\n",
       "Date                                                                   \n",
       "2020-05-05  177.358333  180.333615  176.651333  177.495804  36839200   \n",
       "2020-05-06  178.791983  180.873695  178.350112  179.243668  32139300   \n",
       "2020-05-07  180.844230  181.217372  179.282946  180.284531  28316000   \n",
       "2020-05-08  181.639587  181.659230  180.048846  181.345001  30877800   \n",
       "2020-05-11  179.842631  184.123897  179.548060  183.367813  30892700   \n",
       "\n",
       "            Prev_Close  Target  \n",
       "Date                            \n",
       "2020-05-05  175.610458       1  \n",
       "2020-05-06  177.495804       1  \n",
       "2020-05-07  179.243668       1  \n",
       "2020-05-08  180.284531       1  \n",
       "2020-05-11  181.345001       1  "
      ]
     },
     "execution_count": 8,
     "metadata": {},
     "output_type": "execute_result"
    }
   ],
   "source": [
    "# creating the up = 1 and down = 0 target feature for the dataset\n",
    "\n",
    "# create a previous close column\n",
    "prev_close = pd.DataFrame(df['Close'].shift(1))\n",
    "prev_close.rename(columns = {'Close':'Prev_Close'}, inplace = True)\n",
    "\n",
    "# \n",
    "df = df.drop(['Dividends', 'Stock Splits'], axis=1)\n",
    "df = pd.concat([df,prev_close], axis=1)\n",
    "df['Target'] = np.where(df['Close'] > df['Prev_Close'], 1, 0)\n",
    "df = df.iloc[1: , :]\n",
    "df.head(5)"
   ]
  },
  {
   "cell_type": "code",
   "execution_count": 9,
   "id": "c7eda15e",
   "metadata": {},
   "outputs": [
    {
     "data": {
      "text/plain": [
       "1    271\n",
       "0    232\n",
       "Name: Target, dtype: int64"
      ]
     },
     "execution_count": 9,
     "metadata": {},
     "output_type": "execute_result"
    }
   ],
   "source": [
    "df['Target'].value_counts()"
   ]
  },
  {
   "cell_type": "markdown",
   "id": "4a29dd21",
   "metadata": {},
   "source": [
    "### 4. Creating the Model"
   ]
  },
  {
   "cell_type": "code",
   "execution_count": 10,
   "id": "534ac784",
   "metadata": {},
   "outputs": [],
   "source": [
    "x = df.drop(['Target','Prev_Close','Volume', 'Close'], axis=1)\n",
    "y = df['Close']"
   ]
  },
  {
   "cell_type": "code",
   "execution_count": 11,
   "id": "273a5aa1",
   "metadata": {},
   "outputs": [],
   "source": [
    "x_train, x_test, y_train, y_test = train_test_split(x,y, test_size=0.3, random_state=0)"
   ]
  },
  {
   "cell_type": "code",
   "execution_count": 12,
   "id": "7810873c",
   "metadata": {},
   "outputs": [
    {
     "name": "stdout",
     "output_type": "stream",
     "text": [
      "(352, 3) (151, 3) (352,) (151,)\n"
     ]
    }
   ],
   "source": [
    "print(x_train.shape, x_test.shape, y_train.shape, y_test.shape)"
   ]
  },
  {
   "cell_type": "code",
   "execution_count": 13,
   "id": "b2950598",
   "metadata": {},
   "outputs": [],
   "source": [
    "from sklearn.pipeline import make_pipeline\n",
    "from sklearn.linear_model import Ridge, Lasso\n",
    "from sklearn.ensemble import RandomForestRegressor, GradientBoostingRegressor\n",
    "\n",
    "\n",
    "\n"
   ]
  },
  {
   "cell_type": "code",
   "execution_count": 19,
   "id": "5cbfe1a6",
   "metadata": {},
   "outputs": [],
   "source": [
    "pipelines = {\n",
    "    'lr':make_pipeline(LinearRegression()),\n",
    "    'rf':make_pipeline(RandomForestRegressor(random_state=0)),\n",
    "    'gb':make_pipeline(GradientBoostingRegressor(random_state=0)),\n",
    "    'ridge':make_pipeline(Ridge(random_state=0)),\n",
    "    'lasso':make_pipeline(Lasso(random_state=0))\n",
    "}"
   ]
  },
  {
   "cell_type": "code",
   "execution_count": 20,
   "id": "eaa98e35",
   "metadata": {},
   "outputs": [
    {
     "data": {
      "text/plain": [
       "{'copy_X': True,\n",
       " 'fit_intercept': True,\n",
       " 'n_jobs': None,\n",
       " 'normalize': 'deprecated',\n",
       " 'positive': False}"
      ]
     },
     "execution_count": 20,
     "metadata": {},
     "output_type": "execute_result"
    }
   ],
   "source": [
    "LinearRegression().get_params() "
   ]
  },
  {
   "cell_type": "code",
   "execution_count": 21,
   "id": "4af15b87",
   "metadata": {},
   "outputs": [
    {
     "data": {
      "text/plain": [
       "{'alpha': 0.9,\n",
       " 'ccp_alpha': 0.0,\n",
       " 'criterion': 'friedman_mse',\n",
       " 'init': None,\n",
       " 'learning_rate': 0.1,\n",
       " 'loss': 'squared_error',\n",
       " 'max_depth': 3,\n",
       " 'max_features': None,\n",
       " 'max_leaf_nodes': None,\n",
       " 'min_impurity_decrease': 0.0,\n",
       " 'min_samples_leaf': 1,\n",
       " 'min_samples_split': 2,\n",
       " 'min_weight_fraction_leaf': 0.0,\n",
       " 'n_estimators': 100,\n",
       " 'n_iter_no_change': None,\n",
       " 'random_state': None,\n",
       " 'subsample': 1.0,\n",
       " 'tol': 0.0001,\n",
       " 'validation_fraction': 0.1,\n",
       " 'verbose': 0,\n",
       " 'warm_start': False}"
      ]
     },
     "execution_count": 21,
     "metadata": {},
     "output_type": "execute_result"
    }
   ],
   "source": [
    "GradientBoostingRegressor().get_params()"
   ]
  },
  {
   "cell_type": "code",
   "execution_count": 28,
   "id": "b6e564be",
   "metadata": {},
   "outputs": [],
   "source": [
    "hypergrid = {\n",
    "    'lr': {\n",
    "        \n",
    "    },\n",
    "    'rf':{\n",
    "        'randomforestregressor__min_samples_split':[2,4,6],\n",
    "        'randomforestregressor__min_samples_leaf':[1,2,3]\n",
    "    },\n",
    "    'gb':{\n",
    "        'gradientboostingregressor__alpha':[0.001, 0.005, 0.01, 0.05, 0.1, 0.5, 0.99]\n",
    "    },\n",
    "    'ridge':{\n",
    "        'ridge__alpha':[0.001, 0.005, 0.01, 0.05, 0.1, 0.5, 0.99]\n",
    "    },\n",
    "    'lasso':{\n",
    "        'lasso__alpha':[0.001, 0.005, 0.01, 0.05, 0.1, 0.5, 0.99]\n",
    "    }\n",
    "}"
   ]
  },
  {
   "cell_type": "code",
   "execution_count": 29,
   "id": "da1ffc83",
   "metadata": {},
   "outputs": [],
   "source": [
    "from sklearn.model_selection import GridSearchCV\n",
    "from sklearn.exceptions import NotFittedError"
   ]
  },
  {
   "cell_type": "code",
   "execution_count": 30,
   "id": "63024b56",
   "metadata": {},
   "outputs": [
    {
     "name": "stdout",
     "output_type": "stream",
     "text": [
      "Starting training for lr.\n",
      "lr has successfully fit.\n",
      "Starting training for rf.\n",
      "rf has successfully fit.\n",
      "Starting training for gb.\n",
      "gb has successfully fit.\n",
      "Starting training for ridge.\n",
      "ridge has successfully fit.\n",
      "Starting training for lasso.\n",
      "lasso has successfully fit.\n"
     ]
    },
    {
     "name": "stderr",
     "output_type": "stream",
     "text": [
      "C:\\Users\\Steven\\AppData\\Roaming\\Python\\Python39\\site-packages\\sklearn\\linear_model\\_coordinate_descent.py:647: ConvergenceWarning: Objective did not converge. You might want to increase the number of iterations, check the scale of the features or consider increasing regularisation. Duality gap: 4.675e+02, tolerance: 7.192e+01\n",
      "  model = cd_fast.enet_coordinate_descent(\n"
     ]
    }
   ],
   "source": [
    "fit_models = {}\n",
    "for algo, pipeline in pipelines.items():\n",
    "    model = GridSearchCV( pipeline, hypergrid[algo], cv=10, n_jobs=-1)\n",
    "    try:\n",
    "        print('Starting training for {}.'.format(algo))\n",
    "        model.fit(x_train, y_train)\n",
    "        fit_models[algo] = model\n",
    "        print('{} has successfully fit.'.format(algo))\n",
    "    except NotFittedError:\n",
    "        print(repr(NotFittedError))"
   ]
  },
  {
   "cell_type": "code",
   "execution_count": 31,
   "id": "00e6a9f9",
   "metadata": {},
   "outputs": [],
   "source": [
    "from sklearn.metrics import r2_score, mean_absolute_error"
   ]
  },
  {
   "cell_type": "code",
   "execution_count": 32,
   "id": "faff63b8",
   "metadata": {},
   "outputs": [
    {
     "name": "stdout",
     "output_type": "stream",
     "text": [
      "lr scores - R2:0.9985387320070904 MAE:1.2186786501177387\n",
      "rf scores - R2:0.997305620820608 MAE:1.8051651973278382\n",
      "gb scores - R2:0.9971753972140088 MAE:1.817357415140023\n",
      "ridge scores - R2:0.9985382727366173 MAE:1.219287261549818\n",
      "lasso scores - R2:0.9986142458867796 MAE:1.2522998649308958\n"
     ]
    }
   ],
   "source": [
    "for algo, model in fit_models.items():\n",
    "    yhat = model.predict(x_test)\n",
    "    print('{} scores - R2:{} MAE:{}'. format(algo, r2_score(y_test, yhat), mean_absolute_error(y_test, yhat)) )"
   ]
  },
  {
   "cell_type": "code",
   "execution_count": 34,
   "id": "9cd9b792",
   "metadata": {},
   "outputs": [
    {
     "data": {
      "text/plain": [
       "GridSearchCV(cv=10,\n",
       "             estimator=Pipeline(steps=[('linearregression',\n",
       "                                        LinearRegression())]),\n",
       "             n_jobs=-1, param_grid={})"
      ]
     },
     "execution_count": 34,
     "metadata": {},
     "output_type": "execute_result"
    }
   ],
   "source": [
    " fit_models['lr']"
   ]
  },
  {
   "cell_type": "code",
   "execution_count": 41,
   "id": "64d21b66",
   "metadata": {},
   "outputs": [
    {
     "data": {
      "text/plain": [
       "GridSearchCV(cv=10,\n",
       "             estimator=Pipeline(steps=[('linearregression',\n",
       "                                        LinearRegression())]),\n",
       "             n_jobs=-1, param_grid={})"
      ]
     },
     "execution_count": 41,
     "metadata": {},
     "output_type": "execute_result"
    }
   ],
   "source": [
    "fit_models['lr']"
   ]
  },
  {
   "cell_type": "markdown",
   "id": "71f7dfb5",
   "metadata": {},
   "source": [
    "### 5. Deploying model online"
   ]
  },
  {
   "cell_type": "code",
   "execution_count": 36,
   "id": "066f772e",
   "metadata": {},
   "outputs": [],
   "source": [
    "from ibm_watson_machine_learning import APIClient\n",
    "import json"
   ]
  },
  {
   "cell_type": "code",
   "execution_count": 37,
   "id": "9fe4ad65",
   "metadata": {},
   "outputs": [],
   "source": [
    "# Authentication\n",
    "wml_credentials = {\n",
    "    'apikey': 'Ra2RINZpGRqTMdefsDjMNz55EVLDWKFbbH2Bcke6jFns',\n",
    "    'url': 'https://eu-gb.ml.cloud.ibm.com'\n",
    "}"
   ]
  },
  {
   "cell_type": "code",
   "execution_count": 38,
   "id": "6560e93d",
   "metadata": {},
   "outputs": [
    {
     "name": "stdout",
     "output_type": "stream",
     "text": [
      "Note: 'limit' is not provided. Only first 50 records will be displayed if the number of records exceed 50\n",
      "------------------------------------  ----  ------------------------\n",
      "ID                                    NAME  CREATED\n",
      "5a3ffc60-22f0-423a-a620-45b4071d080d  PROD  2022-05-03T11:06:56.127Z\n",
      "------------------------------------  ----  ------------------------\n"
     ]
    }
   ],
   "source": [
    "wml_client = APIClient(wml_credentials)\n",
    "wml_client.spaces.list()"
   ]
  },
  {
   "cell_type": "code",
   "execution_count": 39,
   "id": "64eb2916",
   "metadata": {},
   "outputs": [],
   "source": [
    "SPACE_ID='5a3ffc60-22f0-423a-a620-45b4071d080d'"
   ]
  },
  {
   "cell_type": "code",
   "execution_count": 40,
   "id": "e22ec613",
   "metadata": {},
   "outputs": [
    {
     "data": {
      "text/plain": [
       "'SUCCESS'"
      ]
     },
     "execution_count": 40,
     "metadata": {},
     "output_type": "execute_result"
    }
   ],
   "source": [
    "wml_client.set.default_space(SPACE_ID)"
   ]
  },
  {
   "cell_type": "code",
   "execution_count": 59,
   "id": "9efbfdff",
   "metadata": {},
   "outputs": [],
   "source": [
    "MODEL_NAME = 'Sklearn Stock Predictor'\n",
    "DEPLOYMENT_NAME = 'Sklearn Deployment'\n",
    "CHOSEN_MODEL = fit_models['lr']"
   ]
  },
  {
   "cell_type": "code",
   "execution_count": 68,
   "id": "d9a151ec",
   "metadata": {},
   "outputs": [],
   "source": [
    "# Set Python Version\n",
    "software_spec_uid = wml_client.software_specifications.get_id_by_name('runtime-22.1-py3.9')\n",
    "\n",
    "# Setup model meta\n",
    "model_props = {\n",
    "    wml_client.repository.ModelMetaNames.NAME: MODEL_NAME, \n",
    "    wml_client.repository.ModelMetaNames.TYPE: 'scikit-learn_1.0', \n",
    "    wml_client.repository.ModelMetaNames.SOFTWARE_SPEC_UID: software_spec_uid \n",
    "}\n",
    "\n",
    "#Save model\n",
    "model_details = wml_client.repository.store_model(\n",
    "    model=BEST_MODEL, \n",
    "    meta_props=model_props, \n",
    "    training_data=x_train, \n",
    "    training_target=y_train,\n",
    "    pipeline=pipelines['lr']\n",
    ")"
   ]
  },
  {
   "cell_type": "code",
   "execution_count": 69,
   "id": "533d932f",
   "metadata": {},
   "outputs": [
    {
     "data": {
      "text/plain": [
       "'3c76092f-ecfc-4606-b90c-2a93cbad839a'"
      ]
     },
     "execution_count": 69,
     "metadata": {},
     "output_type": "execute_result"
    }
   ],
   "source": [
    "model_uid = wml_client.repository.get_model_id(model_details); model_uid"
   ]
  },
  {
   "cell_type": "code",
   "execution_count": 70,
   "id": "a27a8a3f",
   "metadata": {},
   "outputs": [
    {
     "name": "stdout",
     "output_type": "stream",
     "text": [
      "\n",
      "\n",
      "#######################################################################################\n",
      "\n",
      "Synchronous deployment creation for uid: '3c76092f-ecfc-4606-b90c-2a93cbad839a' started\n",
      "\n",
      "#######################################################################################\n",
      "\n",
      "\n",
      "initializing\n",
      "Note: online_url is deprecated and will be removed in a future release. Use serving_urls instead.\n",
      "\n",
      "ready\n",
      "\n",
      "\n",
      "------------------------------------------------------------------------------------------------\n",
      "Successfully finished deployment creation, deployment_uid='308d36a4-f0cf-419e-b421-1d8765f9864f'\n",
      "------------------------------------------------------------------------------------------------\n",
      "\n",
      "\n"
     ]
    },
    {
     "data": {
      "text/plain": [
       "{'entity': {'asset': {'id': '3c76092f-ecfc-4606-b90c-2a93cbad839a'},\n",
       "  'custom': {},\n",
       "  'deployed_asset_type': 'model',\n",
       "  'hardware_spec': {'id': 'e7ed1d6c-2e89-42d7-aed5-863b972c1d2b',\n",
       "   'name': 'S',\n",
       "   'num_nodes': 1},\n",
       "  'name': 'Sklearn Deployment',\n",
       "  'online': {},\n",
       "  'space_id': '5a3ffc60-22f0-423a-a620-45b4071d080d',\n",
       "  'status': {'online_url': {'url': 'https://eu-gb.ml.cloud.ibm.com/ml/v4/deployments/308d36a4-f0cf-419e-b421-1d8765f9864f/predictions'},\n",
       "   'serving_urls': ['https://eu-gb.ml.cloud.ibm.com/ml/v4/deployments/308d36a4-f0cf-419e-b421-1d8765f9864f/predictions'],\n",
       "   'state': 'ready'}},\n",
       " 'metadata': {'created_at': '2022-05-03T13:01:22.402Z',\n",
       "  'id': '308d36a4-f0cf-419e-b421-1d8765f9864f',\n",
       "  'modified_at': '2022-05-03T13:01:22.402Z',\n",
       "  'name': 'Sklearn Deployment',\n",
       "  'owner': 'IBMid-6650022Q37',\n",
       "  'space_id': '5a3ffc60-22f0-423a-a620-45b4071d080d'},\n",
       " 'system': {'warnings': [{'id': 'Deprecated',\n",
       "    'message': 'online_url is deprecated and will be removed in a future release. Use serving_urls instead.'}]}}"
      ]
     },
     "execution_count": 70,
     "metadata": {},
     "output_type": "execute_result"
    }
   ],
   "source": [
    "deployment_props ={\n",
    "    wml_client.deployments.ConfigurationMetaNames.NAME:DEPLOYMENT_NAME,\n",
    "    wml_client.deployments.ConfigurationMetaNames.ONLINE: {}\n",
    "}\n",
    "\n",
    "deployment = wml_client.deployments.create(\n",
    "    artifact_uid = model_uid,\n",
    "    meta_props=deployment_props\n",
    ")\n",
    "\n",
    "deployment"
   ]
  },
  {
   "cell_type": "code",
   "execution_count": 74,
   "id": "3ce35ecb",
   "metadata": {},
   "outputs": [
    {
     "data": {
      "text/plain": [
       "{'predictions': [{'fields': ['prediction'],\n",
       "   'values': [[200.75585787011332],\n",
       "    [202.4373940880205],\n",
       "    [300.6492811452086],\n",
       "    [297.8462184541144],\n",
       "    [331.4297737589206],\n",
       "    [175.97273720696288],\n",
       "    [288.27158882126713],\n",
       "    [341.10708899003896],\n",
       "    [215.3276655496296],\n",
       "    [209.74393842154927],\n",
       "    [281.43211673232724],\n",
       "    [245.9161371446456],\n",
       "    [251.34920440709257],\n",
       "    [230.39471555506867],\n",
       "    [215.86100407705203],\n",
       "    [276.2830236093039],\n",
       "    [292.1123480929186],\n",
       "    [240.0201509576121],\n",
       "    [209.8844924838318],\n",
       "    [192.95618947521922],\n",
       "    [227.47954009883483],\n",
       "    [331.8337164190963],\n",
       "    [295.8040867978088],\n",
       "    [206.74840741411006],\n",
       "    [209.24305448389632],\n",
       "    [333.3250582643906],\n",
       "    [181.24199810806272],\n",
       "    [321.4904585689039],\n",
       "    [198.37244178220092],\n",
       "    [256.75324308992595],\n",
       "    [344.05107902441245],\n",
       "    [213.58649480063542],\n",
       "    [203.64922530851072],\n",
       "    [286.60772737834856],\n",
       "    [231.20050892338037],\n",
       "    [295.94839056586636],\n",
       "    [283.27229692460895],\n",
       "    [291.6233630709807],\n",
       "    [248.76984673016747],\n",
       "    [239.4004675245373],\n",
       "    [284.8622754366017],\n",
       "    [208.90663514297378],\n",
       "    [341.5366348107652],\n",
       "    [231.79676894371656],\n",
       "    [212.40187297055684],\n",
       "    [180.33361265232625],\n",
       "    [288.90446903149274],\n",
       "    [297.68588434813455],\n",
       "    [327.33783253636136],\n",
       "    [205.37824446070965],\n",
       "    [301.7218384749153],\n",
       "    [213.38000260417678],\n",
       "    [229.22850097943302],\n",
       "    [213.40794860527365],\n",
       "    [209.4291859421962],\n",
       "    [182.0343811286561],\n",
       "    [300.5089937042622],\n",
       "    [215.46013349424973],\n",
       "    [300.42214719802],\n",
       "    [259.2389054324908],\n",
       "    [213.3556041266919],\n",
       "    [256.1813078492059],\n",
       "    [340.37208513577417],\n",
       "    [306.09820727161656],\n",
       "    [274.9764518013786],\n",
       "    [259.3457997309746],\n",
       "    [181.8819129956006],\n",
       "    [326.144725233835],\n",
       "    [297.43021077458326],\n",
       "    [210.69982158195296],\n",
       "    [210.62853754125484],\n",
       "    [211.77483655524338],\n",
       "    [299.0619715278636],\n",
       "    [300.7062830206823],\n",
       "    [214.1845499107708],\n",
       "    [246.52724087021224],\n",
       "    [297.8516111216318],\n",
       "    [204.46353863184964],\n",
       "    [286.62717689010964],\n",
       "    [228.18988033793826],\n",
       "    [280.19613989425125],\n",
       "    [257.6739103434589],\n",
       "    [233.63646309950673],\n",
       "    [331.7335203727052],\n",
       "    [290.7524963469105],\n",
       "    [302.2419551705425],\n",
       "    [312.2621999248522],\n",
       "    [216.87375479693281],\n",
       "    [282.7139035058029],\n",
       "    [207.98429383930375],\n",
       "    [335.37702631176523],\n",
       "    [340.7079840203479],\n",
       "    [284.3059701078259],\n",
       "    [286.2013042975147],\n",
       "    [221.4555556381459],\n",
       "    [329.9326449870675],\n",
       "    [196.99789065993446],\n",
       "    [306.3212132933149],\n",
       "    [199.61167714355807],\n",
       "    [284.1070780735219],\n",
       "    [204.0337318427267],\n",
       "    [241.91939333390437],\n",
       "    [205.51487280847599],\n",
       "    [300.75911834491654],\n",
       "    [175.47354647185398],\n",
       "    [340.59435185599506],\n",
       "    [218.06845223574865],\n",
       "    [257.1519748354622],\n",
       "    [279.40225876322216],\n",
       "    [213.42768475057522],\n",
       "    [280.2849923244767],\n",
       "    [175.37753024847237],\n",
       "    [213.13736125853754],\n",
       "    [180.2101341432525],\n",
       "    [233.2094883754942],\n",
       "    [288.4220585778489],\n",
       "    [308.0283681480682],\n",
       "    [276.05260815658147],\n",
       "    [231.19720503982552],\n",
       "    [257.38174801507597],\n",
       "    [301.6782331172152],\n",
       "    [204.10383856601533],\n",
       "    [213.82478625370052],\n",
       "    [233.94807256220085],\n",
       "    [322.3184501588831],\n",
       "    [281.0247446461367],\n",
       "    [200.96616825490935],\n",
       "    [294.5742553610282],\n",
       "    [335.54645179089295],\n",
       "    [335.4060837177271],\n",
       "    [286.9414282478281],\n",
       "    [250.56241482475258],\n",
       "    [253.60476619200432],\n",
       "    [202.74109036709663],\n",
       "    [277.31360017379075],\n",
       "    [298.99889138076145],\n",
       "    [259.90009975459196],\n",
       "    [281.60352048152845],\n",
       "    [239.21612717565608],\n",
       "    [306.24624246099444],\n",
       "    [275.9813912480095],\n",
       "    [205.85424717743973],\n",
       "    [207.6786794861167],\n",
       "    [186.2968229334638],\n",
       "    [326.4086570630841],\n",
       "    [183.13999129323076],\n",
       "    [286.0086257552548],\n",
       "    [239.87489740387076],\n",
       "    [302.19566032712896],\n",
       "    [180.06542609904864],\n",
       "    [207.73378302231248]]}]}"
      ]
     },
     "execution_count": 74,
     "metadata": {},
     "output_type": "execute_result"
    }
   ],
   "source": [
    " # test scoring\n",
    "deployment_uid = wml_client.deployments.get_uid(deployment)\n",
    "payload = {'input_data':[{'fields':x_test.columns.to_numpy().tolist(), 'values':x_test.to_numpy().tolist()}]}\n",
    "result = wml_client.deployments.score(deployment_uid, payload); result"
   ]
  },
  {
   "cell_type": "code",
   "execution_count": 77,
   "id": "0ee12d72",
   "metadata": {},
   "outputs": [
    {
     "data": {
      "text/html": [
       "<div>\n",
       "<style scoped>\n",
       "    .dataframe tbody tr th:only-of-type {\n",
       "        vertical-align: middle;\n",
       "    }\n",
       "\n",
       "    .dataframe tbody tr th {\n",
       "        vertical-align: top;\n",
       "    }\n",
       "\n",
       "    .dataframe thead th {\n",
       "        text-align: right;\n",
       "    }\n",
       "</style>\n",
       "<table border=\"1\" class=\"dataframe\">\n",
       "  <thead>\n",
       "    <tr style=\"text-align: right;\">\n",
       "      <th></th>\n",
       "      <th>Open</th>\n",
       "      <th>High</th>\n",
       "      <th>Low</th>\n",
       "      <th>Close</th>\n",
       "      <th>PRED</th>\n",
       "    </tr>\n",
       "    <tr>\n",
       "      <th>Date</th>\n",
       "      <th></th>\n",
       "      <th></th>\n",
       "      <th></th>\n",
       "      <th></th>\n",
       "      <th></th>\n",
       "    </tr>\n",
       "  </thead>\n",
       "  <tbody>\n",
       "    <tr>\n",
       "      <th>2020-09-11</th>\n",
       "      <td>204.518190</td>\n",
       "      <td>205.929689</td>\n",
       "      <td>198.635339</td>\n",
       "      <td>201.389221</td>\n",
       "      <td>200.755858</td>\n",
       "    </tr>\n",
       "    <tr>\n",
       "      <th>2020-09-22</th>\n",
       "      <td>202.405897</td>\n",
       "      <td>205.406558</td>\n",
       "      <td>199.464471</td>\n",
       "      <td>204.735352</td>\n",
       "      <td>202.437394</td>\n",
       "    </tr>\n",
       "    <tr>\n",
       "      <th>2022-03-23</th>\n",
       "      <td>300.510010</td>\n",
       "      <td>303.230011</td>\n",
       "      <td>297.720001</td>\n",
       "      <td>299.489990</td>\n",
       "      <td>300.649281</td>\n",
       "    </tr>\n",
       "    <tr>\n",
       "      <th>2021-09-09</th>\n",
       "      <td>299.651044</td>\n",
       "      <td>300.965922</td>\n",
       "      <td>295.845881</td>\n",
       "      <td>296.094910</td>\n",
       "      <td>297.846218</td>\n",
       "    </tr>\n",
       "    <tr>\n",
       "      <th>2021-11-26</th>\n",
       "      <td>333.660103</td>\n",
       "      <td>337.232702</td>\n",
       "      <td>327.442947</td>\n",
       "      <td>328.999725</td>\n",
       "      <td>331.429774</td>\n",
       "    </tr>\n",
       "  </tbody>\n",
       "</table>\n",
       "</div>"
      ],
      "text/plain": [
       "                  Open        High         Low       Close        PRED\n",
       "Date                                                                  \n",
       "2020-09-11  204.518190  205.929689  198.635339  201.389221  200.755858\n",
       "2020-09-22  202.405897  205.406558  199.464471  204.735352  202.437394\n",
       "2022-03-23  300.510010  303.230011  297.720001  299.489990  300.649281\n",
       "2021-09-09  299.651044  300.965922  295.845881  296.094910  297.846218\n",
       "2021-11-26  333.660103  337.232702  327.442947  328.999725  331.429774"
      ]
     },
     "execution_count": 77,
     "metadata": {},
     "output_type": "execute_result"
    }
   ],
   "source": [
    "pred_values = np.squeeze(result['predictions'][0]['values']); pred_values\n",
    "preddf = x_test.join(y_test)\n",
    "preddf['PRED'] = pred_values\n",
    "preddf.head()"
   ]
  },
  {
   "cell_type": "code",
   "execution_count": null,
   "id": "06b3c4df",
   "metadata": {},
   "outputs": [],
   "source": []
  }
 ],
 "metadata": {
  "kernelspec": {
   "display_name": "Python 3 (ipykernel)",
   "language": "python",
   "name": "python3"
  },
  "language_info": {
   "codemirror_mode": {
    "name": "ipython",
    "version": 3
   },
   "file_extension": ".py",
   "mimetype": "text/x-python",
   "name": "python",
   "nbconvert_exporter": "python",
   "pygments_lexer": "ipython3",
   "version": "3.9.7"
  }
 },
 "nbformat": 4,
 "nbformat_minor": 5
}
